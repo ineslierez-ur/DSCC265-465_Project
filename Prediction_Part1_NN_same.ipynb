{
 "cells": [
  {
   "cell_type": "markdown",
   "id": "05cdd07b",
   "metadata": {},
   "source": [
    "# Prediction Models Part 1: Neural Network\n",
    "\n",
    "Regarding the possible linear dependence of the features and to avoid overfitting, we apply:\n",
    "\n",
    "1. ElasticNet regression\n",
    "\n",
    "2. KNN\n",
    "\n",
    "3. Neural Network models. \n",
    "\n",
    "In order to decide on model parameters and compare different models' accuracies, we use cross validation techniques like k-fold cross validation, LOOCV, and stratification considering the small number of observations."
   ]
  },
  {
   "cell_type": "code",
   "execution_count": 1,
   "id": "3460f833",
   "metadata": {},
   "outputs": [],
   "source": [
    "#Importing necessary packages\n",
    "\n",
    "import os\n",
    "import numpy as np\n",
    "import sklearn\n",
    "import pandas as pd\n",
    "import random\n",
    "\n",
    "#For plotting\n",
    "%matplotlib inline\n",
    "import matplotlib as mpl\n",
    "import matplotlib.pyplot as plt\n",
    "\n",
    "from sklearn import preprocessing\n",
    "from sklearn.decomposition import PCA\n",
    "from sklearn.manifold import SpectralEmbedding\n",
    "from sklearn.manifold import TSNE\n",
    "\n",
    "from sklearn.linear_model import ElasticNet,ElasticNetCV \n",
    "from sklearn.model_selection import cross_val_score\n",
    "from sklearn.model_selection import train_test_split\n",
    "from sklearn.model_selection import RepeatedKFold\n",
    "from sklearn.metrics import mean_squared_error,r2_score\n",
    "\n",
    "#import theano\n",
    "#import tensorflow\n",
    "#import keras\n",
    "#from keras.models import Sequential\n",
    "#from keras.layers import Dense\n",
    "\n",
    "from scipy import interpolate\n",
    "from scipy.spatial import ConvexHull\n",
    "import matplotlib.pyplot as plt\n",
    "import matplotlib as mpl\n",
    "import seaborn as sns\n",
    "\n",
    "path = '/Users/nesli/Desktop/SPRING2022/DSCC465/Project/'\n",
    "os.chdir(path)\n",
    "\n",
    "random.seed(265) #seed"
   ]
  },
  {
   "cell_type": "code",
   "execution_count": 2,
   "id": "5b0efe10",
   "metadata": {},
   "outputs": [],
   "source": [
    "import pandas as pd\n",
    "import numpy as np \n",
    "import matplotlib.pyplot as plt\n",
    "import sklearn\n",
    "from sklearn.neural_network import MLPClassifier\n",
    "from sklearn.neural_network import MLPRegressor\n",
    "\n",
    "# Import necessary modules\n",
    "from sklearn.model_selection import train_test_split\n",
    "from sklearn.metrics import mean_squared_error\n",
    "from math import sqrt\n",
    "from sklearn.metrics import r2_score\n",
    "from sklearn.neural_network import MLPRegressor"
   ]
  },
  {
   "cell_type": "markdown",
   "id": "e848d04c",
   "metadata": {},
   "source": [
    "## Read the data"
   ]
  },
  {
   "cell_type": "code",
   "execution_count": 3,
   "id": "c750e68a",
   "metadata": {},
   "outputs": [],
   "source": [
    "X=pd.read_csv('X_same_with_pcs.csv')"
   ]
  },
  {
   "cell_type": "code",
   "execution_count": 4,
   "id": "ae0155ad",
   "metadata": {},
   "outputs": [],
   "source": [
    "y=pd.read_csv('y.csv')"
   ]
  },
  {
   "cell_type": "code",
   "execution_count": 5,
   "id": "5fd39551",
   "metadata": {},
   "outputs": [],
   "source": [
    "X.drop(columns=X.columns[0], axis=1, inplace=True)"
   ]
  },
  {
   "cell_type": "code",
   "execution_count": 6,
   "id": "c2b503f5",
   "metadata": {},
   "outputs": [],
   "source": [
    "y.drop(columns=y.columns[0], axis=1, inplace=True)"
   ]
  },
  {
   "cell_type": "markdown",
   "id": "a1cf4224",
   "metadata": {},
   "source": [
    "## Train-test split"
   ]
  },
  {
   "cell_type": "code",
   "execution_count": 7,
   "id": "ab2bcc9c",
   "metadata": {},
   "outputs": [],
   "source": [
    "X_train, X_test, y_train, y_test = train_test_split(X, y, test_size=0.3, random_state=465)"
   ]
  },
  {
   "cell_type": "markdown",
   "id": "c2704d87",
   "metadata": {},
   "source": [
    "## Build NN"
   ]
  },
  {
   "cell_type": "markdown",
   "id": "14813344",
   "metadata": {},
   "source": [
    "We follow from [1]"
   ]
  },
  {
   "cell_type": "code",
   "execution_count": 8,
   "id": "2d0c3e50",
   "metadata": {},
   "outputs": [
    {
     "name": "stderr",
     "output_type": "stream",
     "text": [
      "/Users/nesli/opt/anaconda3/lib/python3.8/site-packages/sklearn/neural_network/_multilayer_perceptron.py:1599: DataConversionWarning: A column-vector y was passed when a 1d array was expected. Please change the shape of y to (n_samples, ), for example using ravel().\n",
      "  y = column_or_1d(y, warn=True)\n",
      "/Users/nesli/opt/anaconda3/lib/python3.8/site-packages/sklearn/neural_network/_multilayer_perceptron.py:692: ConvergenceWarning: Stochastic Optimizer: Maximum iterations (500) reached and the optimization hasn't converged yet.\n",
      "  warnings.warn(\n"
     ]
    }
   ],
   "source": [
    "mlp = MLPRegressor(hidden_layer_sizes=(8,8,8), activation='relu', solver='adam', max_iter=500)\n",
    "mlp.fit(X_train,y_train)\n",
    "\n",
    "predict_train = mlp.predict(X_train)\n",
    "predict_test = mlp.predict(X_test)"
   ]
  },
  {
   "cell_type": "code",
   "execution_count": 9,
   "id": "0d9756c5",
   "metadata": {},
   "outputs": [
    {
     "data": {
      "text/plain": [
       "1.7740079204599686"
      ]
     },
     "execution_count": 9,
     "metadata": {},
     "output_type": "execute_result"
    }
   ],
   "source": [
    "# For train\n",
    "mse = mean_squared_error(y_train, predict_train)\n",
    "mse"
   ]
  },
  {
   "cell_type": "code",
   "execution_count": 10,
   "id": "a44852e3",
   "metadata": {},
   "outputs": [
    {
     "data": {
      "text/plain": [
       "1.3319188865918106"
      ]
     },
     "execution_count": 10,
     "metadata": {},
     "output_type": "execute_result"
    }
   ],
   "source": [
    "np.sqrt(mse)"
   ]
  },
  {
   "cell_type": "code",
   "execution_count": 11,
   "id": "d720967f",
   "metadata": {},
   "outputs": [
    {
     "data": {
      "text/plain": [
       "2.3002787960515985"
      ]
     },
     "execution_count": 11,
     "metadata": {},
     "output_type": "execute_result"
    }
   ],
   "source": [
    "# For test\n",
    "mse = mean_squared_error(y_test, predict_test)\n",
    "mse"
   ]
  },
  {
   "cell_type": "code",
   "execution_count": 12,
   "id": "67e4af05",
   "metadata": {},
   "outputs": [
    {
     "data": {
      "text/plain": [
       "1.5166670023612956"
      ]
     },
     "execution_count": 12,
     "metadata": {},
     "output_type": "execute_result"
    }
   ],
   "source": [
    "np.sqrt(mse)"
   ]
  },
  {
   "cell_type": "markdown",
   "id": "b95a1cc2",
   "metadata": {},
   "source": [
    "## Change the structure of NNs"
   ]
  },
  {
   "cell_type": "code",
   "execution_count": 13,
   "id": "1b4993fa",
   "metadata": {},
   "outputs": [],
   "source": [
    "n_inputs = X_train.shape[1]\n",
    "n_outputs=1"
   ]
  },
  {
   "cell_type": "code",
   "execution_count": 14,
   "id": "5151fff6",
   "metadata": {},
   "outputs": [
    {
     "name": "stderr",
     "output_type": "stream",
     "text": [
      "/Users/nesli/opt/anaconda3/lib/python3.8/site-packages/sklearn/neural_network/_multilayer_perceptron.py:1599: DataConversionWarning: A column-vector y was passed when a 1d array was expected. Please change the shape of y to (n_samples, ), for example using ravel().\n",
      "  y = column_or_1d(y, warn=True)\n",
      "/Users/nesli/opt/anaconda3/lib/python3.8/site-packages/sklearn/neural_network/_multilayer_perceptron.py:692: ConvergenceWarning: Stochastic Optimizer: Maximum iterations (500) reached and the optimization hasn't converged yet.\n",
      "  warnings.warn(\n"
     ]
    }
   ],
   "source": [
    "mlp = MLPRegressor(hidden_layer_sizes=(n_inputs,8,n_outputs), activation='relu', solver='adam', max_iter=500)\n",
    "mlp.fit(X_train,y_train)\n",
    "\n",
    "predict_train = mlp.predict(X_train)\n",
    "predict_test = mlp.predict(X_test)"
   ]
  },
  {
   "cell_type": "code",
   "execution_count": 15,
   "id": "381b40e8",
   "metadata": {},
   "outputs": [
    {
     "data": {
      "text/plain": [
       "4986.119508908557"
      ]
     },
     "execution_count": 15,
     "metadata": {},
     "output_type": "execute_result"
    }
   ],
   "source": [
    "# For train\n",
    "mse = mean_squared_error(y_train, predict_train)\n",
    "mse"
   ]
  },
  {
   "cell_type": "code",
   "execution_count": 16,
   "id": "ff2a93a2",
   "metadata": {},
   "outputs": [
    {
     "data": {
      "text/plain": [
       "70.61246001173275"
      ]
     },
     "execution_count": 16,
     "metadata": {},
     "output_type": "execute_result"
    }
   ],
   "source": [
    "np.sqrt(mse)"
   ]
  },
  {
   "cell_type": "code",
   "execution_count": 17,
   "id": "d14af9f5",
   "metadata": {},
   "outputs": [
    {
     "data": {
      "text/plain": [
       "4989.326346705738"
      ]
     },
     "execution_count": 17,
     "metadata": {},
     "output_type": "execute_result"
    }
   ],
   "source": [
    "# For test\n",
    "mse = mean_squared_error(y_test, predict_test)\n",
    "mse"
   ]
  },
  {
   "cell_type": "code",
   "execution_count": 18,
   "id": "8f642858",
   "metadata": {},
   "outputs": [
    {
     "data": {
      "text/plain": [
       "70.63516367012777"
      ]
     },
     "execution_count": 18,
     "metadata": {},
     "output_type": "execute_result"
    }
   ],
   "source": [
    "np.sqrt(mse)"
   ]
  },
  {
   "cell_type": "code",
   "execution_count": 19,
   "id": "607420b0",
   "metadata": {},
   "outputs": [
    {
     "name": "stderr",
     "output_type": "stream",
     "text": [
      "/Users/nesli/opt/anaconda3/lib/python3.8/site-packages/sklearn/neural_network/_multilayer_perceptron.py:1599: DataConversionWarning: A column-vector y was passed when a 1d array was expected. Please change the shape of y to (n_samples, ), for example using ravel().\n",
      "  y = column_or_1d(y, warn=True)\n",
      "/Users/nesli/opt/anaconda3/lib/python3.8/site-packages/sklearn/neural_network/_multilayer_perceptron.py:692: ConvergenceWarning: Stochastic Optimizer: Maximum iterations (500) reached and the optimization hasn't converged yet.\n",
      "  warnings.warn(\n"
     ]
    }
   ],
   "source": [
    "mlp = MLPRegressor(hidden_layer_sizes=(n_inputs,10,n_outputs), activation='relu', solver='adam', max_iter=500)\n",
    "mlp.fit(X_train,y_train)\n",
    "\n",
    "predict_train = mlp.predict(X_train)\n",
    "predict_test = mlp.predict(X_test)"
   ]
  },
  {
   "cell_type": "code",
   "execution_count": 20,
   "id": "9545ffa1",
   "metadata": {},
   "outputs": [
    {
     "data": {
      "text/plain": [
       "5132.534674101352"
      ]
     },
     "execution_count": 20,
     "metadata": {},
     "output_type": "execute_result"
    }
   ],
   "source": [
    "# For train\n",
    "mse = mean_squared_error(y_train, predict_train)\n",
    "mse"
   ]
  },
  {
   "cell_type": "code",
   "execution_count": 21,
   "id": "d7adf49f",
   "metadata": {},
   "outputs": [
    {
     "data": {
      "text/plain": [
       "71.64171043534172"
      ]
     },
     "execution_count": 21,
     "metadata": {},
     "output_type": "execute_result"
    }
   ],
   "source": [
    "np.sqrt(mse)"
   ]
  },
  {
   "cell_type": "code",
   "execution_count": 22,
   "id": "1cb3f82f",
   "metadata": {},
   "outputs": [
    {
     "data": {
      "text/plain": [
       "5135.788003305393"
      ]
     },
     "execution_count": 22,
     "metadata": {},
     "output_type": "execute_result"
    }
   ],
   "source": [
    "# For test\n",
    "mse = mean_squared_error(y_test, predict_test)\n",
    "mse"
   ]
  },
  {
   "cell_type": "code",
   "execution_count": 23,
   "id": "75fbfc72",
   "metadata": {},
   "outputs": [
    {
     "data": {
      "text/plain": [
       "71.66441239070753"
      ]
     },
     "execution_count": 23,
     "metadata": {},
     "output_type": "execute_result"
    }
   ],
   "source": [
    "np.sqrt(mse)"
   ]
  },
  {
   "cell_type": "code",
   "execution_count": 24,
   "id": "8d067a5b",
   "metadata": {},
   "outputs": [
    {
     "data": {
      "text/plain": [
       "array([ 1,  2,  3,  4,  5,  6,  7,  8,  9, 10])"
      ]
     },
     "execution_count": 24,
     "metadata": {},
     "output_type": "execute_result"
    }
   ],
   "source": [
    "n_list=np.arange(10)+1\n",
    "n_list"
   ]
  },
  {
   "cell_type": "code",
   "execution_count": 25,
   "id": "ca95b9f0",
   "metadata": {},
   "outputs": [
    {
     "name": "stderr",
     "output_type": "stream",
     "text": [
      "/Users/nesli/opt/anaconda3/lib/python3.8/site-packages/sklearn/neural_network/_multilayer_perceptron.py:1599: DataConversionWarning: A column-vector y was passed when a 1d array was expected. Please change the shape of y to (n_samples, ), for example using ravel().\n",
      "  y = column_or_1d(y, warn=True)\n",
      "/Users/nesli/opt/anaconda3/lib/python3.8/site-packages/sklearn/neural_network/_multilayer_perceptron.py:692: ConvergenceWarning: Stochastic Optimizer: Maximum iterations (500) reached and the optimization hasn't converged yet.\n",
      "  warnings.warn(\n",
      "/Users/nesli/opt/anaconda3/lib/python3.8/site-packages/sklearn/neural_network/_multilayer_perceptron.py:1599: DataConversionWarning: A column-vector y was passed when a 1d array was expected. Please change the shape of y to (n_samples, ), for example using ravel().\n",
      "  y = column_or_1d(y, warn=True)\n"
     ]
    },
    {
     "name": "stdout",
     "output_type": "stream",
     "text": [
      "n=1\n",
      "Train MSE=522.9768994785758\n",
      "Train RMSE=22.868688188844057\n",
      "Test MSE=524.0229850566476\n",
      "Test RMSE=22.89154833244461\n"
     ]
    },
    {
     "name": "stderr",
     "output_type": "stream",
     "text": [
      "/Users/nesli/opt/anaconda3/lib/python3.8/site-packages/sklearn/neural_network/_multilayer_perceptron.py:692: ConvergenceWarning: Stochastic Optimizer: Maximum iterations (500) reached and the optimization hasn't converged yet.\n",
      "  warnings.warn(\n",
      "/Users/nesli/opt/anaconda3/lib/python3.8/site-packages/sklearn/neural_network/_multilayer_perceptron.py:1599: DataConversionWarning: A column-vector y was passed when a 1d array was expected. Please change the shape of y to (n_samples, ), for example using ravel().\n",
      "  y = column_or_1d(y, warn=True)\n"
     ]
    },
    {
     "name": "stdout",
     "output_type": "stream",
     "text": [
      "n=2\n",
      "Train MSE=5148.573807425944\n",
      "Train RMSE=71.75356302948269\n",
      "Test MSE=5151.832188957401\n",
      "Test RMSE=71.776264802213\n"
     ]
    },
    {
     "name": "stderr",
     "output_type": "stream",
     "text": [
      "/Users/nesli/opt/anaconda3/lib/python3.8/site-packages/sklearn/neural_network/_multilayer_perceptron.py:692: ConvergenceWarning: Stochastic Optimizer: Maximum iterations (500) reached and the optimization hasn't converged yet.\n",
      "  warnings.warn(\n",
      "/Users/nesli/opt/anaconda3/lib/python3.8/site-packages/sklearn/neural_network/_multilayer_perceptron.py:1599: DataConversionWarning: A column-vector y was passed when a 1d array was expected. Please change the shape of y to (n_samples, ), for example using ravel().\n",
      "  y = column_or_1d(y, warn=True)\n"
     ]
    },
    {
     "name": "stdout",
     "output_type": "stream",
     "text": [
      "n=3\n",
      "Train MSE=5398.356280586708\n",
      "Train RMSE=73.47350733826927\n",
      "Test MSE=5401.692349455006\n",
      "Test RMSE=73.49620636097488\n"
     ]
    },
    {
     "name": "stderr",
     "output_type": "stream",
     "text": [
      "/Users/nesli/opt/anaconda3/lib/python3.8/site-packages/sklearn/neural_network/_multilayer_perceptron.py:692: ConvergenceWarning: Stochastic Optimizer: Maximum iterations (500) reached and the optimization hasn't converged yet.\n",
      "  warnings.warn(\n",
      "/Users/nesli/opt/anaconda3/lib/python3.8/site-packages/sklearn/neural_network/_multilayer_perceptron.py:1599: DataConversionWarning: A column-vector y was passed when a 1d array was expected. Please change the shape of y to (n_samples, ), for example using ravel().\n",
      "  y = column_or_1d(y, warn=True)\n"
     ]
    },
    {
     "name": "stdout",
     "output_type": "stream",
     "text": [
      "n=4\n",
      "Train MSE=1.2161750036907126\n",
      "Train RMSE=1.102803247950745\n",
      "Test MSE=1.7804965238309276\n",
      "Test RMSE=1.334352473610675\n"
     ]
    },
    {
     "name": "stderr",
     "output_type": "stream",
     "text": [
      "/Users/nesli/opt/anaconda3/lib/python3.8/site-packages/sklearn/neural_network/_multilayer_perceptron.py:692: ConvergenceWarning: Stochastic Optimizer: Maximum iterations (500) reached and the optimization hasn't converged yet.\n",
      "  warnings.warn(\n",
      "/Users/nesli/opt/anaconda3/lib/python3.8/site-packages/sklearn/neural_network/_multilayer_perceptron.py:1599: DataConversionWarning: A column-vector y was passed when a 1d array was expected. Please change the shape of y to (n_samples, ), for example using ravel().\n",
      "  y = column_or_1d(y, warn=True)\n"
     ]
    },
    {
     "name": "stdout",
     "output_type": "stream",
     "text": [
      "n=5\n",
      "Train MSE=0.8268170857046528\n",
      "Train RMSE=0.9092948288122246\n",
      "Test MSE=1.265273281506503\n",
      "Test RMSE=1.1248436698077218\n"
     ]
    },
    {
     "name": "stderr",
     "output_type": "stream",
     "text": [
      "/Users/nesli/opt/anaconda3/lib/python3.8/site-packages/sklearn/neural_network/_multilayer_perceptron.py:692: ConvergenceWarning: Stochastic Optimizer: Maximum iterations (500) reached and the optimization hasn't converged yet.\n",
      "  warnings.warn(\n",
      "/Users/nesli/opt/anaconda3/lib/python3.8/site-packages/sklearn/neural_network/_multilayer_perceptron.py:1599: DataConversionWarning: A column-vector y was passed when a 1d array was expected. Please change the shape of y to (n_samples, ), for example using ravel().\n",
      "  y = column_or_1d(y, warn=True)\n"
     ]
    },
    {
     "name": "stdout",
     "output_type": "stream",
     "text": [
      "n=6\n",
      "Train MSE=5253.9463707667655\n",
      "Train RMSE=72.48411116076933\n",
      "Test MSE=5257.245987729162\n",
      "Test RMSE=72.50686855553177\n"
     ]
    },
    {
     "name": "stderr",
     "output_type": "stream",
     "text": [
      "/Users/nesli/opt/anaconda3/lib/python3.8/site-packages/sklearn/neural_network/_multilayer_perceptron.py:692: ConvergenceWarning: Stochastic Optimizer: Maximum iterations (500) reached and the optimization hasn't converged yet.\n",
      "  warnings.warn(\n",
      "/Users/nesli/opt/anaconda3/lib/python3.8/site-packages/sklearn/neural_network/_multilayer_perceptron.py:1599: DataConversionWarning: A column-vector y was passed when a 1d array was expected. Please change the shape of y to (n_samples, ), for example using ravel().\n",
      "  y = column_or_1d(y, warn=True)\n"
     ]
    },
    {
     "name": "stdout",
     "output_type": "stream",
     "text": [
      "n=7\n",
      "Train MSE=5025.850348642567\n",
      "Train RMSE=70.89323203693401\n",
      "Test MSE=5029.069869077555\n",
      "Test RMSE=70.91593522670031\n"
     ]
    },
    {
     "name": "stderr",
     "output_type": "stream",
     "text": [
      "/Users/nesli/opt/anaconda3/lib/python3.8/site-packages/sklearn/neural_network/_multilayer_perceptron.py:692: ConvergenceWarning: Stochastic Optimizer: Maximum iterations (500) reached and the optimization hasn't converged yet.\n",
      "  warnings.warn(\n",
      "/Users/nesli/opt/anaconda3/lib/python3.8/site-packages/sklearn/neural_network/_multilayer_perceptron.py:1599: DataConversionWarning: A column-vector y was passed when a 1d array was expected. Please change the shape of y to (n_samples, ), for example using ravel().\n",
      "  y = column_or_1d(y, warn=True)\n"
     ]
    },
    {
     "name": "stdout",
     "output_type": "stream",
     "text": [
      "n=8\n",
      "Train MSE=1.031643610451472\n",
      "Train RMSE=1.0156985824797984\n",
      "Test MSE=1.5374229249085853\n",
      "Test RMSE=1.2399285966976425\n"
     ]
    },
    {
     "name": "stderr",
     "output_type": "stream",
     "text": [
      "/Users/nesli/opt/anaconda3/lib/python3.8/site-packages/sklearn/neural_network/_multilayer_perceptron.py:692: ConvergenceWarning: Stochastic Optimizer: Maximum iterations (500) reached and the optimization hasn't converged yet.\n",
      "  warnings.warn(\n",
      "/Users/nesli/opt/anaconda3/lib/python3.8/site-packages/sklearn/neural_network/_multilayer_perceptron.py:1599: DataConversionWarning: A column-vector y was passed when a 1d array was expected. Please change the shape of y to (n_samples, ), for example using ravel().\n",
      "  y = column_or_1d(y, warn=True)\n"
     ]
    },
    {
     "name": "stdout",
     "output_type": "stream",
     "text": [
      "n=9\n",
      "Train MSE=5222.89434102514\n",
      "Train RMSE=72.26959485859278\n",
      "Test MSE=5226.176031284846\n",
      "Test RMSE=72.29229579481375\n",
      "n=10\n",
      "Train MSE=1.0061561576247438\n",
      "Train RMSE=1.0030733560536556\n",
      "Test MSE=1.4350304328872778\n",
      "Test RMSE=1.1979275574454733\n"
     ]
    },
    {
     "name": "stderr",
     "output_type": "stream",
     "text": [
      "/Users/nesli/opt/anaconda3/lib/python3.8/site-packages/sklearn/neural_network/_multilayer_perceptron.py:692: ConvergenceWarning: Stochastic Optimizer: Maximum iterations (500) reached and the optimization hasn't converged yet.\n",
      "  warnings.warn(\n"
     ]
    }
   ],
   "source": [
    "for n in n_list:\n",
    "    mlp = MLPRegressor(hidden_layer_sizes=(n_inputs,n,n_outputs), activation='relu', solver='adam', max_iter=500)\n",
    "    mlp.fit(X_train,y_train)\n",
    "\n",
    "    predict_train = mlp.predict(X_train)\n",
    "    predict_test = mlp.predict(X_test)\n",
    "    \n",
    "    print(\"n=\"+str(n))\n",
    "    # For train\n",
    "    mse = mean_squared_error(y_train, predict_train)\n",
    "    print(\"Train MSE=\"+str(mse))\n",
    "    print(\"Train RMSE=\"+str(np.sqrt(mse)))\n",
    "    \n",
    "    # For test\n",
    "    mse = mean_squared_error(y_test, predict_test)\n",
    "    print(\"Test MSE=\"+str(mse))\n",
    "    print(\"Test RMSE=\"+str(np.sqrt(mse)))"
   ]
  },
  {
   "cell_type": "markdown",
   "id": "8200d3a0",
   "metadata": {},
   "source": [
    "Choose n that minimizes RMSE for both train and test sets and that RMSEs for test and train sets are similar. If RMSE of train set is much less than test set, that would signal overfitting. So we choose $n=9$."
   ]
  },
  {
   "cell_type": "code",
   "execution_count": 26,
   "id": "033f8fba",
   "metadata": {},
   "outputs": [
    {
     "name": "stderr",
     "output_type": "stream",
     "text": [
      "/Users/nesli/opt/anaconda3/lib/python3.8/site-packages/sklearn/neural_network/_multilayer_perceptron.py:1599: DataConversionWarning: A column-vector y was passed when a 1d array was expected. Please change the shape of y to (n_samples, ), for example using ravel().\n",
      "  y = column_or_1d(y, warn=True)\n"
     ]
    },
    {
     "name": "stdout",
     "output_type": "stream",
     "text": [
      "n=10\n",
      "Train MSE=5181.187696702427\n",
      "Train RMSE=71.98046746654559\n",
      "Test MSE=5184.456327354559\n",
      "Test RMSE=72.00316887022792\n"
     ]
    },
    {
     "name": "stderr",
     "output_type": "stream",
     "text": [
      "/Users/nesli/opt/anaconda3/lib/python3.8/site-packages/sklearn/neural_network/_multilayer_perceptron.py:692: ConvergenceWarning: Stochastic Optimizer: Maximum iterations (500) reached and the optimization hasn't converged yet.\n",
      "  warnings.warn(\n"
     ]
    }
   ],
   "source": [
    "mlp = MLPRegressor(hidden_layer_sizes=(n_inputs,9,n_outputs), activation='relu', solver='adam', max_iter=500)\n",
    "mlp.fit(X_train,y_train)\n",
    "\n",
    "predict_train = mlp.predict(X_train)\n",
    "predict_test = mlp.predict(X_test)\n",
    "\n",
    "print(\"n=\"+str(n))\n",
    "# For train\n",
    "mse = mean_squared_error(y_train, predict_train)\n",
    "print(\"Train MSE=\"+str(mse))\n",
    "print(\"Train RMSE=\"+str(np.sqrt(mse)))\n",
    "    \n",
    "# For test\n",
    "mse = mean_squared_error(y_test, predict_test)\n",
    "print(\"Test MSE=\"+str(mse))\n",
    "print(\"Test RMSE=\"+str(np.sqrt(mse)))"
   ]
  },
  {
   "cell_type": "code",
   "execution_count": 28,
   "id": "98af5242",
   "metadata": {},
   "outputs": [],
   "source": [
    "predict_test=pd.DataFrame(predict_test, columns=['life_expectancy'])"
   ]
  },
  {
   "cell_type": "code",
   "execution_count": 29,
   "id": "7c99b6a0",
   "metadata": {},
   "outputs": [],
   "source": [
    "predict_test.to_csv('y_pred_same_withpcs_NN.csv')"
   ]
  },
  {
   "cell_type": "markdown",
   "id": "64d404c6",
   "metadata": {},
   "source": [
    "## Remove PCA, spectral embedding, and t-SNE columns"
   ]
  },
  {
   "cell_type": "code",
   "execution_count": 30,
   "id": "53906594",
   "metadata": {},
   "outputs": [
    {
     "data": {
      "text/html": [
       "<div>\n",
       "<style scoped>\n",
       "    .dataframe tbody tr th:only-of-type {\n",
       "        vertical-align: middle;\n",
       "    }\n",
       "\n",
       "    .dataframe tbody tr th {\n",
       "        vertical-align: top;\n",
       "    }\n",
       "\n",
       "    .dataframe thead th {\n",
       "        text-align: right;\n",
       "    }\n",
       "</style>\n",
       "<table border=\"1\" class=\"dataframe\">\n",
       "  <thead>\n",
       "    <tr style=\"text-align: right;\">\n",
       "      <th></th>\n",
       "      <th>percent_fair_or_poor_health</th>\n",
       "      <th>average_number_of_mentally_unhealthy_days</th>\n",
       "      <th>percent_smokers</th>\n",
       "      <th>percent_adults_with_obesity</th>\n",
       "      <th>food_environment_index</th>\n",
       "      <th>percent_excessive_drinking</th>\n",
       "      <th>num_driving_deaths</th>\n",
       "      <th>num_uninsured</th>\n",
       "      <th>num_primary_care_physicians</th>\n",
       "      <th>num_dentists</th>\n",
       "      <th>...</th>\n",
       "      <th>percentile_rank_social_vulnerability</th>\n",
       "      <th>pca_pc1</th>\n",
       "      <th>pca_pc2</th>\n",
       "      <th>pca_pc3</th>\n",
       "      <th>spec_pc1</th>\n",
       "      <th>spec_pc2</th>\n",
       "      <th>spec_pc3</th>\n",
       "      <th>tsne_pc1</th>\n",
       "      <th>tsne_pc2</th>\n",
       "      <th>tsne_pc3</th>\n",
       "    </tr>\n",
       "  </thead>\n",
       "  <tbody>\n",
       "    <tr>\n",
       "      <th>0</th>\n",
       "      <td>0.388267</td>\n",
       "      <td>0.561029</td>\n",
       "      <td>0.342101</td>\n",
       "      <td>0.461369</td>\n",
       "      <td>0.720000</td>\n",
       "      <td>0.346707</td>\n",
       "      <td>0.015506</td>\n",
       "      <td>0.004474</td>\n",
       "      <td>0.003380</td>\n",
       "      <td>0.002061</td>\n",
       "      <td>...</td>\n",
       "      <td>0.377300</td>\n",
       "      <td>-0.612896</td>\n",
       "      <td>0.063201</td>\n",
       "      <td>-0.313888</td>\n",
       "      <td>0.000252</td>\n",
       "      <td>-0.001221</td>\n",
       "      <td>0.000717</td>\n",
       "      <td>-5.478652</td>\n",
       "      <td>-3.007624</td>\n",
       "      <td>11.151594</td>\n",
       "    </tr>\n",
       "    <tr>\n",
       "      <th>1</th>\n",
       "      <td>0.285624</td>\n",
       "      <td>0.468466</td>\n",
       "      <td>0.325449</td>\n",
       "      <td>0.410596</td>\n",
       "      <td>0.800000</td>\n",
       "      <td>0.487587</td>\n",
       "      <td>0.043699</td>\n",
       "      <td>0.021010</td>\n",
       "      <td>0.020954</td>\n",
       "      <td>0.012368</td>\n",
       "      <td>...</td>\n",
       "      <td>0.275700</td>\n",
       "      <td>0.993903</td>\n",
       "      <td>-0.082875</td>\n",
       "      <td>-0.187324</td>\n",
       "      <td>-0.000580</td>\n",
       "      <td>-0.000771</td>\n",
       "      <td>-0.001262</td>\n",
       "      <td>2.447136</td>\n",
       "      <td>-7.664367</td>\n",
       "      <td>-0.042642</td>\n",
       "    </tr>\n",
       "    <tr>\n",
       "      <th>2</th>\n",
       "      <td>0.653214</td>\n",
       "      <td>0.701619</td>\n",
       "      <td>0.452223</td>\n",
       "      <td>0.646799</td>\n",
       "      <td>0.560000</td>\n",
       "      <td>0.241874</td>\n",
       "      <td>0.008176</td>\n",
       "      <td>0.002321</td>\n",
       "      <td>0.001082</td>\n",
       "      <td>0.001031</td>\n",
       "      <td>...</td>\n",
       "      <td>0.984700</td>\n",
       "      <td>-2.264915</td>\n",
       "      <td>0.629004</td>\n",
       "      <td>0.769147</td>\n",
       "      <td>0.001032</td>\n",
       "      <td>-0.000120</td>\n",
       "      <td>0.001038</td>\n",
       "      <td>-5.176828</td>\n",
       "      <td>8.238961</td>\n",
       "      <td>4.895467</td>\n",
       "    </tr>\n",
       "    <tr>\n",
       "      <th>3</th>\n",
       "      <td>0.344359</td>\n",
       "      <td>0.533963</td>\n",
       "      <td>0.371122</td>\n",
       "      <td>0.556291</td>\n",
       "      <td>0.780000</td>\n",
       "      <td>0.372844</td>\n",
       "      <td>0.007894</td>\n",
       "      <td>0.001871</td>\n",
       "      <td>0.001487</td>\n",
       "      <td>0.000573</td>\n",
       "      <td>...</td>\n",
       "      <td>0.573700</td>\n",
       "      <td>-3.950356</td>\n",
       "      <td>0.145724</td>\n",
       "      <td>0.101242</td>\n",
       "      <td>0.001571</td>\n",
       "      <td>0.001361</td>\n",
       "      <td>-0.000986</td>\n",
       "      <td>-5.714986</td>\n",
       "      <td>16.582363</td>\n",
       "      <td>0.309691</td>\n",
       "    </tr>\n",
       "    <tr>\n",
       "      <th>4</th>\n",
       "      <td>0.414500</td>\n",
       "      <td>0.623824</td>\n",
       "      <td>0.373777</td>\n",
       "      <td>0.472406</td>\n",
       "      <td>0.840000</td>\n",
       "      <td>0.308491</td>\n",
       "      <td>0.020017</td>\n",
       "      <td>0.006939</td>\n",
       "      <td>0.001757</td>\n",
       "      <td>0.001260</td>\n",
       "      <td>...</td>\n",
       "      <td>0.498600</td>\n",
       "      <td>-3.358407</td>\n",
       "      <td>-0.504476</td>\n",
       "      <td>-0.055199</td>\n",
       "      <td>0.001457</td>\n",
       "      <td>0.001013</td>\n",
       "      <td>-0.000416</td>\n",
       "      <td>-2.518751</td>\n",
       "      <td>17.053493</td>\n",
       "      <td>4.764736</td>\n",
       "    </tr>\n",
       "    <tr>\n",
       "      <th>...</th>\n",
       "      <td>...</td>\n",
       "      <td>...</td>\n",
       "      <td>...</td>\n",
       "      <td>...</td>\n",
       "      <td>...</td>\n",
       "      <td>...</td>\n",
       "      <td>...</td>\n",
       "      <td>...</td>\n",
       "      <td>...</td>\n",
       "      <td>...</td>\n",
       "      <td>...</td>\n",
       "      <td>...</td>\n",
       "      <td>...</td>\n",
       "      <td>...</td>\n",
       "      <td>...</td>\n",
       "      <td>...</td>\n",
       "      <td>...</td>\n",
       "      <td>...</td>\n",
       "      <td>...</td>\n",
       "      <td>...</td>\n",
       "      <td>...</td>\n",
       "    </tr>\n",
       "    <tr>\n",
       "      <th>3139</th>\n",
       "      <td>0.225641</td>\n",
       "      <td>0.300716</td>\n",
       "      <td>0.317682</td>\n",
       "      <td>0.516556</td>\n",
       "      <td>0.740000</td>\n",
       "      <td>0.543080</td>\n",
       "      <td>0.005357</td>\n",
       "      <td>0.002620</td>\n",
       "      <td>0.001217</td>\n",
       "      <td>0.002061</td>\n",
       "      <td>...</td>\n",
       "      <td>0.535200</td>\n",
       "      <td>1.737956</td>\n",
       "      <td>0.342858</td>\n",
       "      <td>-0.128236</td>\n",
       "      <td>-0.000870</td>\n",
       "      <td>-0.000163</td>\n",
       "      <td>-0.001173</td>\n",
       "      <td>0.091839</td>\n",
       "      <td>-1.043154</td>\n",
       "      <td>-7.836049</td>\n",
       "    </tr>\n",
       "    <tr>\n",
       "      <th>3140</th>\n",
       "      <td>0.238373</td>\n",
       "      <td>0.304077</td>\n",
       "      <td>0.307754</td>\n",
       "      <td>0.362031</td>\n",
       "      <td>0.830000</td>\n",
       "      <td>0.418641</td>\n",
       "      <td>0.001128</td>\n",
       "      <td>0.001128</td>\n",
       "      <td>0.000541</td>\n",
       "      <td>0.000687</td>\n",
       "      <td>...</td>\n",
       "      <td>0.592800</td>\n",
       "      <td>1.940699</td>\n",
       "      <td>-0.005748</td>\n",
       "      <td>0.257216</td>\n",
       "      <td>-0.000957</td>\n",
       "      <td>0.000061</td>\n",
       "      <td>-0.001021</td>\n",
       "      <td>5.933311</td>\n",
       "      <td>-3.059773</td>\n",
       "      <td>-6.624521</td>\n",
       "    </tr>\n",
       "    <tr>\n",
       "      <th>3141</th>\n",
       "      <td>0.176860</td>\n",
       "      <td>0.298239</td>\n",
       "      <td>0.303081</td>\n",
       "      <td>0.461369</td>\n",
       "      <td>0.790000</td>\n",
       "      <td>0.474434</td>\n",
       "      <td>0.002537</td>\n",
       "      <td>0.000752</td>\n",
       "      <td>0.000406</td>\n",
       "      <td>0.000573</td>\n",
       "      <td>...</td>\n",
       "      <td>0.271600</td>\n",
       "      <td>3.049711</td>\n",
       "      <td>-0.033842</td>\n",
       "      <td>0.486872</td>\n",
       "      <td>-0.001253</td>\n",
       "      <td>0.001024</td>\n",
       "      <td>0.000417</td>\n",
       "      <td>4.736609</td>\n",
       "      <td>-10.780089</td>\n",
       "      <td>-13.694742</td>\n",
       "    </tr>\n",
       "    <tr>\n",
       "      <th>3142</th>\n",
       "      <td>0.251945</td>\n",
       "      <td>0.439812</td>\n",
       "      <td>0.359885</td>\n",
       "      <td>0.445514</td>\n",
       "      <td>0.738523</td>\n",
       "      <td>0.626147</td>\n",
       "      <td>0.184663</td>\n",
       "      <td>0.115827</td>\n",
       "      <td>0.109639</td>\n",
       "      <td>0.099175</td>\n",
       "      <td>...</td>\n",
       "      <td>0.392899</td>\n",
       "      <td>0.729907</td>\n",
       "      <td>0.352062</td>\n",
       "      <td>-0.707103</td>\n",
       "      <td>-0.000480</td>\n",
       "      <td>-0.000900</td>\n",
       "      <td>-0.001095</td>\n",
       "      <td>-2.299268</td>\n",
       "      <td>-8.020679</td>\n",
       "      <td>0.646890</td>\n",
       "    </tr>\n",
       "    <tr>\n",
       "      <th>3143</th>\n",
       "      <td>0.284821</td>\n",
       "      <td>0.340679</td>\n",
       "      <td>0.210347</td>\n",
       "      <td>0.201248</td>\n",
       "      <td>0.835690</td>\n",
       "      <td>0.570218</td>\n",
       "      <td>0.316324</td>\n",
       "      <td>0.655884</td>\n",
       "      <td>0.902934</td>\n",
       "      <td>0.834517</td>\n",
       "      <td>...</td>\n",
       "      <td>0.724114</td>\n",
       "      <td>5.775152</td>\n",
       "      <td>1.524854</td>\n",
       "      <td>-0.288316</td>\n",
       "      <td>-0.001405</td>\n",
       "      <td>0.001596</td>\n",
       "      <td>0.001547</td>\n",
       "      <td>-5.429302</td>\n",
       "      <td>-12.034446</td>\n",
       "      <td>-18.308311</td>\n",
       "    </tr>\n",
       "  </tbody>\n",
       "</table>\n",
       "<p>3144 rows × 67 columns</p>\n",
       "</div>"
      ],
      "text/plain": [
       "      percent_fair_or_poor_health  average_number_of_mentally_unhealthy_days  \\\n",
       "0                        0.388267                                   0.561029   \n",
       "1                        0.285624                                   0.468466   \n",
       "2                        0.653214                                   0.701619   \n",
       "3                        0.344359                                   0.533963   \n",
       "4                        0.414500                                   0.623824   \n",
       "...                           ...                                        ...   \n",
       "3139                     0.225641                                   0.300716   \n",
       "3140                     0.238373                                   0.304077   \n",
       "3141                     0.176860                                   0.298239   \n",
       "3142                     0.251945                                   0.439812   \n",
       "3143                     0.284821                                   0.340679   \n",
       "\n",
       "      percent_smokers  percent_adults_with_obesity  food_environment_index  \\\n",
       "0            0.342101                     0.461369                0.720000   \n",
       "1            0.325449                     0.410596                0.800000   \n",
       "2            0.452223                     0.646799                0.560000   \n",
       "3            0.371122                     0.556291                0.780000   \n",
       "4            0.373777                     0.472406                0.840000   \n",
       "...               ...                          ...                     ...   \n",
       "3139         0.317682                     0.516556                0.740000   \n",
       "3140         0.307754                     0.362031                0.830000   \n",
       "3141         0.303081                     0.461369                0.790000   \n",
       "3142         0.359885                     0.445514                0.738523   \n",
       "3143         0.210347                     0.201248                0.835690   \n",
       "\n",
       "      percent_excessive_drinking  num_driving_deaths  num_uninsured  \\\n",
       "0                       0.346707            0.015506       0.004474   \n",
       "1                       0.487587            0.043699       0.021010   \n",
       "2                       0.241874            0.008176       0.002321   \n",
       "3                       0.372844            0.007894       0.001871   \n",
       "4                       0.308491            0.020017       0.006939   \n",
       "...                          ...                 ...            ...   \n",
       "3139                    0.543080            0.005357       0.002620   \n",
       "3140                    0.418641            0.001128       0.001128   \n",
       "3141                    0.474434            0.002537       0.000752   \n",
       "3142                    0.626147            0.184663       0.115827   \n",
       "3143                    0.570218            0.316324       0.655884   \n",
       "\n",
       "      num_primary_care_physicians  num_dentists  ...  \\\n",
       "0                        0.003380      0.002061  ...   \n",
       "1                        0.020954      0.012368  ...   \n",
       "2                        0.001082      0.001031  ...   \n",
       "3                        0.001487      0.000573  ...   \n",
       "4                        0.001757      0.001260  ...   \n",
       "...                           ...           ...  ...   \n",
       "3139                     0.001217      0.002061  ...   \n",
       "3140                     0.000541      0.000687  ...   \n",
       "3141                     0.000406      0.000573  ...   \n",
       "3142                     0.109639      0.099175  ...   \n",
       "3143                     0.902934      0.834517  ...   \n",
       "\n",
       "      percentile_rank_social_vulnerability   pca_pc1   pca_pc2   pca_pc3  \\\n",
       "0                                 0.377300 -0.612896  0.063201 -0.313888   \n",
       "1                                 0.275700  0.993903 -0.082875 -0.187324   \n",
       "2                                 0.984700 -2.264915  0.629004  0.769147   \n",
       "3                                 0.573700 -3.950356  0.145724  0.101242   \n",
       "4                                 0.498600 -3.358407 -0.504476 -0.055199   \n",
       "...                                    ...       ...       ...       ...   \n",
       "3139                              0.535200  1.737956  0.342858 -0.128236   \n",
       "3140                              0.592800  1.940699 -0.005748  0.257216   \n",
       "3141                              0.271600  3.049711 -0.033842  0.486872   \n",
       "3142                              0.392899  0.729907  0.352062 -0.707103   \n",
       "3143                              0.724114  5.775152  1.524854 -0.288316   \n",
       "\n",
       "      spec_pc1  spec_pc2  spec_pc3  tsne_pc1   tsne_pc2   tsne_pc3  \n",
       "0     0.000252 -0.001221  0.000717 -5.478652  -3.007624  11.151594  \n",
       "1    -0.000580 -0.000771 -0.001262  2.447136  -7.664367  -0.042642  \n",
       "2     0.001032 -0.000120  0.001038 -5.176828   8.238961   4.895467  \n",
       "3     0.001571  0.001361 -0.000986 -5.714986  16.582363   0.309691  \n",
       "4     0.001457  0.001013 -0.000416 -2.518751  17.053493   4.764736  \n",
       "...        ...       ...       ...       ...        ...        ...  \n",
       "3139 -0.000870 -0.000163 -0.001173  0.091839  -1.043154  -7.836049  \n",
       "3140 -0.000957  0.000061 -0.001021  5.933311  -3.059773  -6.624521  \n",
       "3141 -0.001253  0.001024  0.000417  4.736609 -10.780089 -13.694742  \n",
       "3142 -0.000480 -0.000900 -0.001095 -2.299268  -8.020679   0.646890  \n",
       "3143 -0.001405  0.001596  0.001547 -5.429302 -12.034446 -18.308311  \n",
       "\n",
       "[3144 rows x 67 columns]"
      ]
     },
     "execution_count": 30,
     "metadata": {},
     "output_type": "execute_result"
    }
   ],
   "source": [
    "X"
   ]
  },
  {
   "cell_type": "code",
   "execution_count": 31,
   "id": "f709f730",
   "metadata": {},
   "outputs": [],
   "source": [
    "# Select the last 9 columns [5]\n",
    "pcs = X.T.tail(9).T"
   ]
  },
  {
   "cell_type": "code",
   "execution_count": 32,
   "id": "de30fc10",
   "metadata": {},
   "outputs": [
    {
     "data": {
      "text/html": [
       "<div>\n",
       "<style scoped>\n",
       "    .dataframe tbody tr th:only-of-type {\n",
       "        vertical-align: middle;\n",
       "    }\n",
       "\n",
       "    .dataframe tbody tr th {\n",
       "        vertical-align: top;\n",
       "    }\n",
       "\n",
       "    .dataframe thead th {\n",
       "        text-align: right;\n",
       "    }\n",
       "</style>\n",
       "<table border=\"1\" class=\"dataframe\">\n",
       "  <thead>\n",
       "    <tr style=\"text-align: right;\">\n",
       "      <th></th>\n",
       "      <th>pca_pc1</th>\n",
       "      <th>pca_pc2</th>\n",
       "      <th>pca_pc3</th>\n",
       "      <th>spec_pc1</th>\n",
       "      <th>spec_pc2</th>\n",
       "      <th>spec_pc3</th>\n",
       "      <th>tsne_pc1</th>\n",
       "      <th>tsne_pc2</th>\n",
       "      <th>tsne_pc3</th>\n",
       "    </tr>\n",
       "  </thead>\n",
       "  <tbody>\n",
       "    <tr>\n",
       "      <th>0</th>\n",
       "      <td>-0.612896</td>\n",
       "      <td>0.063201</td>\n",
       "      <td>-0.313888</td>\n",
       "      <td>0.000252</td>\n",
       "      <td>-0.001221</td>\n",
       "      <td>0.000717</td>\n",
       "      <td>-5.478652</td>\n",
       "      <td>-3.007624</td>\n",
       "      <td>11.151594</td>\n",
       "    </tr>\n",
       "    <tr>\n",
       "      <th>1</th>\n",
       "      <td>0.993903</td>\n",
       "      <td>-0.082875</td>\n",
       "      <td>-0.187324</td>\n",
       "      <td>-0.000580</td>\n",
       "      <td>-0.000771</td>\n",
       "      <td>-0.001262</td>\n",
       "      <td>2.447136</td>\n",
       "      <td>-7.664367</td>\n",
       "      <td>-0.042642</td>\n",
       "    </tr>\n",
       "    <tr>\n",
       "      <th>2</th>\n",
       "      <td>-2.264915</td>\n",
       "      <td>0.629004</td>\n",
       "      <td>0.769147</td>\n",
       "      <td>0.001032</td>\n",
       "      <td>-0.000120</td>\n",
       "      <td>0.001038</td>\n",
       "      <td>-5.176828</td>\n",
       "      <td>8.238961</td>\n",
       "      <td>4.895467</td>\n",
       "    </tr>\n",
       "    <tr>\n",
       "      <th>3</th>\n",
       "      <td>-3.950356</td>\n",
       "      <td>0.145724</td>\n",
       "      <td>0.101242</td>\n",
       "      <td>0.001571</td>\n",
       "      <td>0.001361</td>\n",
       "      <td>-0.000986</td>\n",
       "      <td>-5.714986</td>\n",
       "      <td>16.582363</td>\n",
       "      <td>0.309691</td>\n",
       "    </tr>\n",
       "    <tr>\n",
       "      <th>4</th>\n",
       "      <td>-3.358407</td>\n",
       "      <td>-0.504476</td>\n",
       "      <td>-0.055199</td>\n",
       "      <td>0.001457</td>\n",
       "      <td>0.001013</td>\n",
       "      <td>-0.000416</td>\n",
       "      <td>-2.518751</td>\n",
       "      <td>17.053493</td>\n",
       "      <td>4.764736</td>\n",
       "    </tr>\n",
       "    <tr>\n",
       "      <th>...</th>\n",
       "      <td>...</td>\n",
       "      <td>...</td>\n",
       "      <td>...</td>\n",
       "      <td>...</td>\n",
       "      <td>...</td>\n",
       "      <td>...</td>\n",
       "      <td>...</td>\n",
       "      <td>...</td>\n",
       "      <td>...</td>\n",
       "    </tr>\n",
       "    <tr>\n",
       "      <th>3139</th>\n",
       "      <td>1.737956</td>\n",
       "      <td>0.342858</td>\n",
       "      <td>-0.128236</td>\n",
       "      <td>-0.000870</td>\n",
       "      <td>-0.000163</td>\n",
       "      <td>-0.001173</td>\n",
       "      <td>0.091839</td>\n",
       "      <td>-1.043154</td>\n",
       "      <td>-7.836049</td>\n",
       "    </tr>\n",
       "    <tr>\n",
       "      <th>3140</th>\n",
       "      <td>1.940699</td>\n",
       "      <td>-0.005748</td>\n",
       "      <td>0.257216</td>\n",
       "      <td>-0.000957</td>\n",
       "      <td>0.000061</td>\n",
       "      <td>-0.001021</td>\n",
       "      <td>5.933311</td>\n",
       "      <td>-3.059773</td>\n",
       "      <td>-6.624521</td>\n",
       "    </tr>\n",
       "    <tr>\n",
       "      <th>3141</th>\n",
       "      <td>3.049711</td>\n",
       "      <td>-0.033842</td>\n",
       "      <td>0.486872</td>\n",
       "      <td>-0.001253</td>\n",
       "      <td>0.001024</td>\n",
       "      <td>0.000417</td>\n",
       "      <td>4.736609</td>\n",
       "      <td>-10.780089</td>\n",
       "      <td>-13.694742</td>\n",
       "    </tr>\n",
       "    <tr>\n",
       "      <th>3142</th>\n",
       "      <td>0.729907</td>\n",
       "      <td>0.352062</td>\n",
       "      <td>-0.707103</td>\n",
       "      <td>-0.000480</td>\n",
       "      <td>-0.000900</td>\n",
       "      <td>-0.001095</td>\n",
       "      <td>-2.299268</td>\n",
       "      <td>-8.020679</td>\n",
       "      <td>0.646890</td>\n",
       "    </tr>\n",
       "    <tr>\n",
       "      <th>3143</th>\n",
       "      <td>5.775152</td>\n",
       "      <td>1.524854</td>\n",
       "      <td>-0.288316</td>\n",
       "      <td>-0.001405</td>\n",
       "      <td>0.001596</td>\n",
       "      <td>0.001547</td>\n",
       "      <td>-5.429302</td>\n",
       "      <td>-12.034446</td>\n",
       "      <td>-18.308311</td>\n",
       "    </tr>\n",
       "  </tbody>\n",
       "</table>\n",
       "<p>3144 rows × 9 columns</p>\n",
       "</div>"
      ],
      "text/plain": [
       "       pca_pc1   pca_pc2   pca_pc3  spec_pc1  spec_pc2  spec_pc3  tsne_pc1  \\\n",
       "0    -0.612896  0.063201 -0.313888  0.000252 -0.001221  0.000717 -5.478652   \n",
       "1     0.993903 -0.082875 -0.187324 -0.000580 -0.000771 -0.001262  2.447136   \n",
       "2    -2.264915  0.629004  0.769147  0.001032 -0.000120  0.001038 -5.176828   \n",
       "3    -3.950356  0.145724  0.101242  0.001571  0.001361 -0.000986 -5.714986   \n",
       "4    -3.358407 -0.504476 -0.055199  0.001457  0.001013 -0.000416 -2.518751   \n",
       "...        ...       ...       ...       ...       ...       ...       ...   \n",
       "3139  1.737956  0.342858 -0.128236 -0.000870 -0.000163 -0.001173  0.091839   \n",
       "3140  1.940699 -0.005748  0.257216 -0.000957  0.000061 -0.001021  5.933311   \n",
       "3141  3.049711 -0.033842  0.486872 -0.001253  0.001024  0.000417  4.736609   \n",
       "3142  0.729907  0.352062 -0.707103 -0.000480 -0.000900 -0.001095 -2.299268   \n",
       "3143  5.775152  1.524854 -0.288316 -0.001405  0.001596  0.001547 -5.429302   \n",
       "\n",
       "       tsne_pc2   tsne_pc3  \n",
       "0     -3.007624  11.151594  \n",
       "1     -7.664367  -0.042642  \n",
       "2      8.238961   4.895467  \n",
       "3     16.582363   0.309691  \n",
       "4     17.053493   4.764736  \n",
       "...         ...        ...  \n",
       "3139  -1.043154  -7.836049  \n",
       "3140  -3.059773  -6.624521  \n",
       "3141 -10.780089 -13.694742  \n",
       "3142  -8.020679   0.646890  \n",
       "3143 -12.034446 -18.308311  \n",
       "\n",
       "[3144 rows x 9 columns]"
      ]
     },
     "execution_count": 32,
     "metadata": {},
     "output_type": "execute_result"
    }
   ],
   "source": [
    "pcs"
   ]
  },
  {
   "cell_type": "code",
   "execution_count": 33,
   "id": "6529377c",
   "metadata": {},
   "outputs": [],
   "source": [
    "X_removed = X.iloc[: , :-9]"
   ]
  },
  {
   "cell_type": "code",
   "execution_count": 34,
   "id": "fc08e392",
   "metadata": {},
   "outputs": [
    {
     "data": {
      "text/html": [
       "<div>\n",
       "<style scoped>\n",
       "    .dataframe tbody tr th:only-of-type {\n",
       "        vertical-align: middle;\n",
       "    }\n",
       "\n",
       "    .dataframe tbody tr th {\n",
       "        vertical-align: top;\n",
       "    }\n",
       "\n",
       "    .dataframe thead th {\n",
       "        text-align: right;\n",
       "    }\n",
       "</style>\n",
       "<table border=\"1\" class=\"dataframe\">\n",
       "  <thead>\n",
       "    <tr style=\"text-align: right;\">\n",
       "      <th></th>\n",
       "      <th>percent_fair_or_poor_health</th>\n",
       "      <th>average_number_of_mentally_unhealthy_days</th>\n",
       "      <th>percent_smokers</th>\n",
       "      <th>percent_adults_with_obesity</th>\n",
       "      <th>food_environment_index</th>\n",
       "      <th>percent_excessive_drinking</th>\n",
       "      <th>num_driving_deaths</th>\n",
       "      <th>num_uninsured</th>\n",
       "      <th>num_primary_care_physicians</th>\n",
       "      <th>num_dentists</th>\n",
       "      <th>...</th>\n",
       "      <th>num_minorities</th>\n",
       "      <th>num_institutionalized_in_group_quarters</th>\n",
       "      <th>percentile_rank_age_65_and_older</th>\n",
       "      <th>percentile_rank_age_17_and_younger</th>\n",
       "      <th>percentile_rank_minorities</th>\n",
       "      <th>percentile_rank_multi_unit_housing</th>\n",
       "      <th>percentile_rank_mobile_homes</th>\n",
       "      <th>percentile_rank_institutionalized_in_group_quarters</th>\n",
       "      <th>percentile_rank_housing_and_transportation</th>\n",
       "      <th>percentile_rank_social_vulnerability</th>\n",
       "    </tr>\n",
       "  </thead>\n",
       "  <tbody>\n",
       "    <tr>\n",
       "      <th>0</th>\n",
       "      <td>0.388267</td>\n",
       "      <td>0.561029</td>\n",
       "      <td>0.342101</td>\n",
       "      <td>0.461369</td>\n",
       "      <td>0.720000</td>\n",
       "      <td>0.346707</td>\n",
       "      <td>0.015506</td>\n",
       "      <td>0.004474</td>\n",
       "      <td>0.003380</td>\n",
       "      <td>0.002061</td>\n",
       "      <td>...</td>\n",
       "      <td>0.001816</td>\n",
       "      <td>0.002771</td>\n",
       "      <td>0.196400</td>\n",
       "      <td>0.831300</td>\n",
       "      <td>0.633900</td>\n",
       "      <td>0.679100</td>\n",
       "      <td>0.726800</td>\n",
       "      <td>0.125100</td>\n",
       "      <td>0.288100</td>\n",
       "      <td>0.377300</td>\n",
       "    </tr>\n",
       "    <tr>\n",
       "      <th>1</th>\n",
       "      <td>0.285624</td>\n",
       "      <td>0.468466</td>\n",
       "      <td>0.325449</td>\n",
       "      <td>0.410596</td>\n",
       "      <td>0.800000</td>\n",
       "      <td>0.487587</td>\n",
       "      <td>0.043699</td>\n",
       "      <td>0.021010</td>\n",
       "      <td>0.020954</td>\n",
       "      <td>0.012368</td>\n",
       "      <td>...</td>\n",
       "      <td>0.004554</td>\n",
       "      <td>0.016464</td>\n",
       "      <td>0.643700</td>\n",
       "      <td>0.447600</td>\n",
       "      <td>0.525300</td>\n",
       "      <td>0.973300</td>\n",
       "      <td>0.538700</td>\n",
       "      <td>0.343800</td>\n",
       "      <td>0.332400</td>\n",
       "      <td>0.275700</td>\n",
       "    </tr>\n",
       "    <tr>\n",
       "      <th>2</th>\n",
       "      <td>0.653214</td>\n",
       "      <td>0.701619</td>\n",
       "      <td>0.452223</td>\n",
       "      <td>0.646799</td>\n",
       "      <td>0.560000</td>\n",
       "      <td>0.241874</td>\n",
       "      <td>0.008176</td>\n",
       "      <td>0.002321</td>\n",
       "      <td>0.001082</td>\n",
       "      <td>0.001031</td>\n",
       "      <td>...</td>\n",
       "      <td>0.001954</td>\n",
       "      <td>0.016583</td>\n",
       "      <td>0.417400</td>\n",
       "      <td>0.361700</td>\n",
       "      <td>0.904200</td>\n",
       "      <td>0.281400</td>\n",
       "      <td>0.937000</td>\n",
       "      <td>0.942700</td>\n",
       "      <td>0.931200</td>\n",
       "      <td>0.984700</td>\n",
       "    </tr>\n",
       "    <tr>\n",
       "      <th>3</th>\n",
       "      <td>0.344359</td>\n",
       "      <td>0.533963</td>\n",
       "      <td>0.371122</td>\n",
       "      <td>0.556291</td>\n",
       "      <td>0.780000</td>\n",
       "      <td>0.372844</td>\n",
       "      <td>0.007894</td>\n",
       "      <td>0.001871</td>\n",
       "      <td>0.001487</td>\n",
       "      <td>0.000573</td>\n",
       "      <td>...</td>\n",
       "      <td>0.000773</td>\n",
       "      <td>0.011317</td>\n",
       "      <td>0.258500</td>\n",
       "      <td>0.308800</td>\n",
       "      <td>0.645000</td>\n",
       "      <td>0.407200</td>\n",
       "      <td>0.924900</td>\n",
       "      <td>0.915600</td>\n",
       "      <td>0.666300</td>\n",
       "      <td>0.573700</td>\n",
       "    </tr>\n",
       "    <tr>\n",
       "      <th>4</th>\n",
       "      <td>0.414500</td>\n",
       "      <td>0.623824</td>\n",
       "      <td>0.373777</td>\n",
       "      <td>0.472406</td>\n",
       "      <td>0.840000</td>\n",
       "      <td>0.308491</td>\n",
       "      <td>0.020017</td>\n",
       "      <td>0.006939</td>\n",
       "      <td>0.001757</td>\n",
       "      <td>0.001260</td>\n",
       "      <td>...</td>\n",
       "      <td>0.000966</td>\n",
       "      <td>0.003122</td>\n",
       "      <td>0.490900</td>\n",
       "      <td>0.646600</td>\n",
       "      <td>0.423800</td>\n",
       "      <td>0.134400</td>\n",
       "      <td>0.846500</td>\n",
       "      <td>0.151500</td>\n",
       "      <td>0.182700</td>\n",
       "      <td>0.498600</td>\n",
       "    </tr>\n",
       "    <tr>\n",
       "      <th>...</th>\n",
       "      <td>...</td>\n",
       "      <td>...</td>\n",
       "      <td>...</td>\n",
       "      <td>...</td>\n",
       "      <td>...</td>\n",
       "      <td>...</td>\n",
       "      <td>...</td>\n",
       "      <td>...</td>\n",
       "      <td>...</td>\n",
       "      <td>...</td>\n",
       "      <td>...</td>\n",
       "      <td>...</td>\n",
       "      <td>...</td>\n",
       "      <td>...</td>\n",
       "      <td>...</td>\n",
       "      <td>...</td>\n",
       "      <td>...</td>\n",
       "      <td>...</td>\n",
       "      <td>...</td>\n",
       "      <td>...</td>\n",
       "      <td>...</td>\n",
       "    </tr>\n",
       "    <tr>\n",
       "      <th>3139</th>\n",
       "      <td>0.225641</td>\n",
       "      <td>0.300716</td>\n",
       "      <td>0.317682</td>\n",
       "      <td>0.516556</td>\n",
       "      <td>0.740000</td>\n",
       "      <td>0.543080</td>\n",
       "      <td>0.005357</td>\n",
       "      <td>0.002620</td>\n",
       "      <td>0.001217</td>\n",
       "      <td>0.002061</td>\n",
       "      <td>...</td>\n",
       "      <td>0.000348</td>\n",
       "      <td>0.001380</td>\n",
       "      <td>0.044600</td>\n",
       "      <td>0.966900</td>\n",
       "      <td>0.421200</td>\n",
       "      <td>0.770500</td>\n",
       "      <td>0.875800</td>\n",
       "      <td>0.215900</td>\n",
       "      <td>0.656200</td>\n",
       "      <td>0.535200</td>\n",
       "    </tr>\n",
       "    <tr>\n",
       "      <th>3140</th>\n",
       "      <td>0.238373</td>\n",
       "      <td>0.304077</td>\n",
       "      <td>0.307754</td>\n",
       "      <td>0.362031</td>\n",
       "      <td>0.830000</td>\n",
       "      <td>0.418641</td>\n",
       "      <td>0.001128</td>\n",
       "      <td>0.001128</td>\n",
       "      <td>0.000541</td>\n",
       "      <td>0.000687</td>\n",
       "      <td>...</td>\n",
       "      <td>0.000199</td>\n",
       "      <td>0.000995</td>\n",
       "      <td>0.730000</td>\n",
       "      <td>0.800700</td>\n",
       "      <td>0.536100</td>\n",
       "      <td>0.346400</td>\n",
       "      <td>0.511600</td>\n",
       "      <td>0.537400</td>\n",
       "      <td>0.514200</td>\n",
       "      <td>0.592800</td>\n",
       "    </tr>\n",
       "    <tr>\n",
       "      <th>3141</th>\n",
       "      <td>0.176860</td>\n",
       "      <td>0.298239</td>\n",
       "      <td>0.303081</td>\n",
       "      <td>0.461369</td>\n",
       "      <td>0.790000</td>\n",
       "      <td>0.474434</td>\n",
       "      <td>0.002537</td>\n",
       "      <td>0.000752</td>\n",
       "      <td>0.000406</td>\n",
       "      <td>0.000573</td>\n",
       "      <td>...</td>\n",
       "      <td>0.000076</td>\n",
       "      <td>0.002013</td>\n",
       "      <td>0.615100</td>\n",
       "      <td>0.307500</td>\n",
       "      <td>0.288800</td>\n",
       "      <td>0.552100</td>\n",
       "      <td>0.861800</td>\n",
       "      <td>0.807700</td>\n",
       "      <td>0.633900</td>\n",
       "      <td>0.271600</td>\n",
       "    </tr>\n",
       "    <tr>\n",
       "      <th>3142</th>\n",
       "      <td>0.251945</td>\n",
       "      <td>0.439812</td>\n",
       "      <td>0.359885</td>\n",
       "      <td>0.445514</td>\n",
       "      <td>0.738523</td>\n",
       "      <td>0.626147</td>\n",
       "      <td>0.184663</td>\n",
       "      <td>0.115827</td>\n",
       "      <td>0.109639</td>\n",
       "      <td>0.099175</td>\n",
       "      <td>...</td>\n",
       "      <td>0.043998</td>\n",
       "      <td>0.091127</td>\n",
       "      <td>0.166922</td>\n",
       "      <td>0.744178</td>\n",
       "      <td>0.675575</td>\n",
       "      <td>0.879288</td>\n",
       "      <td>0.055045</td>\n",
       "      <td>0.329812</td>\n",
       "      <td>0.384675</td>\n",
       "      <td>0.392899</td>\n",
       "    </tr>\n",
       "    <tr>\n",
       "      <th>3143</th>\n",
       "      <td>0.284821</td>\n",
       "      <td>0.340679</td>\n",
       "      <td>0.210347</td>\n",
       "      <td>0.201248</td>\n",
       "      <td>0.835690</td>\n",
       "      <td>0.570218</td>\n",
       "      <td>0.316324</td>\n",
       "      <td>0.655884</td>\n",
       "      <td>0.902934</td>\n",
       "      <td>0.834517</td>\n",
       "      <td>...</td>\n",
       "      <td>0.777813</td>\n",
       "      <td>1.000000</td>\n",
       "      <td>0.144087</td>\n",
       "      <td>0.431132</td>\n",
       "      <td>0.945408</td>\n",
       "      <td>0.992835</td>\n",
       "      <td>0.004499</td>\n",
       "      <td>0.450722</td>\n",
       "      <td>0.903038</td>\n",
       "      <td>0.724114</td>\n",
       "    </tr>\n",
       "  </tbody>\n",
       "</table>\n",
       "<p>3144 rows × 58 columns</p>\n",
       "</div>"
      ],
      "text/plain": [
       "      percent_fair_or_poor_health  average_number_of_mentally_unhealthy_days  \\\n",
       "0                        0.388267                                   0.561029   \n",
       "1                        0.285624                                   0.468466   \n",
       "2                        0.653214                                   0.701619   \n",
       "3                        0.344359                                   0.533963   \n",
       "4                        0.414500                                   0.623824   \n",
       "...                           ...                                        ...   \n",
       "3139                     0.225641                                   0.300716   \n",
       "3140                     0.238373                                   0.304077   \n",
       "3141                     0.176860                                   0.298239   \n",
       "3142                     0.251945                                   0.439812   \n",
       "3143                     0.284821                                   0.340679   \n",
       "\n",
       "      percent_smokers  percent_adults_with_obesity  food_environment_index  \\\n",
       "0            0.342101                     0.461369                0.720000   \n",
       "1            0.325449                     0.410596                0.800000   \n",
       "2            0.452223                     0.646799                0.560000   \n",
       "3            0.371122                     0.556291                0.780000   \n",
       "4            0.373777                     0.472406                0.840000   \n",
       "...               ...                          ...                     ...   \n",
       "3139         0.317682                     0.516556                0.740000   \n",
       "3140         0.307754                     0.362031                0.830000   \n",
       "3141         0.303081                     0.461369                0.790000   \n",
       "3142         0.359885                     0.445514                0.738523   \n",
       "3143         0.210347                     0.201248                0.835690   \n",
       "\n",
       "      percent_excessive_drinking  num_driving_deaths  num_uninsured  \\\n",
       "0                       0.346707            0.015506       0.004474   \n",
       "1                       0.487587            0.043699       0.021010   \n",
       "2                       0.241874            0.008176       0.002321   \n",
       "3                       0.372844            0.007894       0.001871   \n",
       "4                       0.308491            0.020017       0.006939   \n",
       "...                          ...                 ...            ...   \n",
       "3139                    0.543080            0.005357       0.002620   \n",
       "3140                    0.418641            0.001128       0.001128   \n",
       "3141                    0.474434            0.002537       0.000752   \n",
       "3142                    0.626147            0.184663       0.115827   \n",
       "3143                    0.570218            0.316324       0.655884   \n",
       "\n",
       "      num_primary_care_physicians  num_dentists  ...  num_minorities  \\\n",
       "0                        0.003380      0.002061  ...        0.001816   \n",
       "1                        0.020954      0.012368  ...        0.004554   \n",
       "2                        0.001082      0.001031  ...        0.001954   \n",
       "3                        0.001487      0.000573  ...        0.000773   \n",
       "4                        0.001757      0.001260  ...        0.000966   \n",
       "...                           ...           ...  ...             ...   \n",
       "3139                     0.001217      0.002061  ...        0.000348   \n",
       "3140                     0.000541      0.000687  ...        0.000199   \n",
       "3141                     0.000406      0.000573  ...        0.000076   \n",
       "3142                     0.109639      0.099175  ...        0.043998   \n",
       "3143                     0.902934      0.834517  ...        0.777813   \n",
       "\n",
       "      num_institutionalized_in_group_quarters  \\\n",
       "0                                    0.002771   \n",
       "1                                    0.016464   \n",
       "2                                    0.016583   \n",
       "3                                    0.011317   \n",
       "4                                    0.003122   \n",
       "...                                       ...   \n",
       "3139                                 0.001380   \n",
       "3140                                 0.000995   \n",
       "3141                                 0.002013   \n",
       "3142                                 0.091127   \n",
       "3143                                 1.000000   \n",
       "\n",
       "      percentile_rank_age_65_and_older  percentile_rank_age_17_and_younger  \\\n",
       "0                             0.196400                            0.831300   \n",
       "1                             0.643700                            0.447600   \n",
       "2                             0.417400                            0.361700   \n",
       "3                             0.258500                            0.308800   \n",
       "4                             0.490900                            0.646600   \n",
       "...                                ...                                 ...   \n",
       "3139                          0.044600                            0.966900   \n",
       "3140                          0.730000                            0.800700   \n",
       "3141                          0.615100                            0.307500   \n",
       "3142                          0.166922                            0.744178   \n",
       "3143                          0.144087                            0.431132   \n",
       "\n",
       "      percentile_rank_minorities  percentile_rank_multi_unit_housing  \\\n",
       "0                       0.633900                            0.679100   \n",
       "1                       0.525300                            0.973300   \n",
       "2                       0.904200                            0.281400   \n",
       "3                       0.645000                            0.407200   \n",
       "4                       0.423800                            0.134400   \n",
       "...                          ...                                 ...   \n",
       "3139                    0.421200                            0.770500   \n",
       "3140                    0.536100                            0.346400   \n",
       "3141                    0.288800                            0.552100   \n",
       "3142                    0.675575                            0.879288   \n",
       "3143                    0.945408                            0.992835   \n",
       "\n",
       "      percentile_rank_mobile_homes  \\\n",
       "0                         0.726800   \n",
       "1                         0.538700   \n",
       "2                         0.937000   \n",
       "3                         0.924900   \n",
       "4                         0.846500   \n",
       "...                            ...   \n",
       "3139                      0.875800   \n",
       "3140                      0.511600   \n",
       "3141                      0.861800   \n",
       "3142                      0.055045   \n",
       "3143                      0.004499   \n",
       "\n",
       "      percentile_rank_institutionalized_in_group_quarters  \\\n",
       "0                                              0.125100     \n",
       "1                                              0.343800     \n",
       "2                                              0.942700     \n",
       "3                                              0.915600     \n",
       "4                                              0.151500     \n",
       "...                                                 ...     \n",
       "3139                                           0.215900     \n",
       "3140                                           0.537400     \n",
       "3141                                           0.807700     \n",
       "3142                                           0.329812     \n",
       "3143                                           0.450722     \n",
       "\n",
       "      percentile_rank_housing_and_transportation  \\\n",
       "0                                       0.288100   \n",
       "1                                       0.332400   \n",
       "2                                       0.931200   \n",
       "3                                       0.666300   \n",
       "4                                       0.182700   \n",
       "...                                          ...   \n",
       "3139                                    0.656200   \n",
       "3140                                    0.514200   \n",
       "3141                                    0.633900   \n",
       "3142                                    0.384675   \n",
       "3143                                    0.903038   \n",
       "\n",
       "      percentile_rank_social_vulnerability  \n",
       "0                                 0.377300  \n",
       "1                                 0.275700  \n",
       "2                                 0.984700  \n",
       "3                                 0.573700  \n",
       "4                                 0.498600  \n",
       "...                                    ...  \n",
       "3139                              0.535200  \n",
       "3140                              0.592800  \n",
       "3141                              0.271600  \n",
       "3142                              0.392899  \n",
       "3143                              0.724114  \n",
       "\n",
       "[3144 rows x 58 columns]"
      ]
     },
     "execution_count": 34,
     "metadata": {},
     "output_type": "execute_result"
    }
   ],
   "source": [
    "X_removed"
   ]
  },
  {
   "cell_type": "markdown",
   "id": "baf7543d",
   "metadata": {},
   "source": [
    "## Now, repeat without the principal components "
   ]
  },
  {
   "cell_type": "markdown",
   "id": "9f04f54e",
   "metadata": {},
   "source": [
    "## Train-test split again"
   ]
  },
  {
   "cell_type": "code",
   "execution_count": 35,
   "id": "aab17b60",
   "metadata": {},
   "outputs": [],
   "source": [
    "X_train, X_test, y_train, y_test = train_test_split(X_removed, y, test_size=0.3, random_state=465)"
   ]
  },
  {
   "cell_type": "code",
   "execution_count": 36,
   "id": "12346f56",
   "metadata": {},
   "outputs": [
    {
     "name": "stderr",
     "output_type": "stream",
     "text": [
      "/Users/nesli/opt/anaconda3/lib/python3.8/site-packages/sklearn/neural_network/_multilayer_perceptron.py:1599: DataConversionWarning: A column-vector y was passed when a 1d array was expected. Please change the shape of y to (n_samples, ), for example using ravel().\n",
      "  y = column_or_1d(y, warn=True)\n",
      "/Users/nesli/opt/anaconda3/lib/python3.8/site-packages/sklearn/neural_network/_multilayer_perceptron.py:692: ConvergenceWarning: Stochastic Optimizer: Maximum iterations (500) reached and the optimization hasn't converged yet.\n",
      "  warnings.warn(\n",
      "/Users/nesli/opt/anaconda3/lib/python3.8/site-packages/sklearn/neural_network/_multilayer_perceptron.py:1599: DataConversionWarning: A column-vector y was passed when a 1d array was expected. Please change the shape of y to (n_samples, ), for example using ravel().\n",
      "  y = column_or_1d(y, warn=True)\n"
     ]
    },
    {
     "name": "stdout",
     "output_type": "stream",
     "text": [
      "n=1\n",
      "Train MSE=5210.38465052075\n",
      "Train RMSE=72.18299419198922\n",
      "Test MSE=5213.662429120824\n",
      "Test RMSE=72.20569526789991\n"
     ]
    },
    {
     "name": "stderr",
     "output_type": "stream",
     "text": [
      "/Users/nesli/opt/anaconda3/lib/python3.8/site-packages/sklearn/neural_network/_multilayer_perceptron.py:692: ConvergenceWarning: Stochastic Optimizer: Maximum iterations (500) reached and the optimization hasn't converged yet.\n",
      "  warnings.warn(\n",
      "/Users/nesli/opt/anaconda3/lib/python3.8/site-packages/sklearn/neural_network/_multilayer_perceptron.py:1599: DataConversionWarning: A column-vector y was passed when a 1d array was expected. Please change the shape of y to (n_samples, ), for example using ravel().\n",
      "  y = column_or_1d(y, warn=True)\n"
     ]
    },
    {
     "name": "stdout",
     "output_type": "stream",
     "text": [
      "n=2\n",
      "Train MSE=5232.585634881947\n",
      "Train RMSE=72.33661337719612\n",
      "Test MSE=5235.8703522909655\n",
      "Test RMSE=72.35931420550477\n"
     ]
    },
    {
     "name": "stderr",
     "output_type": "stream",
     "text": [
      "/Users/nesli/opt/anaconda3/lib/python3.8/site-packages/sklearn/neural_network/_multilayer_perceptron.py:692: ConvergenceWarning: Stochastic Optimizer: Maximum iterations (500) reached and the optimization hasn't converged yet.\n",
      "  warnings.warn(\n",
      "/Users/nesli/opt/anaconda3/lib/python3.8/site-packages/sklearn/neural_network/_multilayer_perceptron.py:1599: DataConversionWarning: A column-vector y was passed when a 1d array was expected. Please change the shape of y to (n_samples, ), for example using ravel().\n",
      "  y = column_or_1d(y, warn=True)\n"
     ]
    },
    {
     "name": "stdout",
     "output_type": "stream",
     "text": [
      "n=3\n",
      "Train MSE=5052.205025114455\n",
      "Train RMSE=71.0788648271373\n",
      "Test MSE=5055.432930641971\n",
      "Test RMSE=71.10156770875007\n"
     ]
    },
    {
     "name": "stderr",
     "output_type": "stream",
     "text": [
      "/Users/nesli/opt/anaconda3/lib/python3.8/site-packages/sklearn/neural_network/_multilayer_perceptron.py:692: ConvergenceWarning: Stochastic Optimizer: Maximum iterations (500) reached and the optimization hasn't converged yet.\n",
      "  warnings.warn(\n",
      "/Users/nesli/opt/anaconda3/lib/python3.8/site-packages/sklearn/neural_network/_multilayer_perceptron.py:1599: DataConversionWarning: A column-vector y was passed when a 1d array was expected. Please change the shape of y to (n_samples, ), for example using ravel().\n",
      "  y = column_or_1d(y, warn=True)\n"
     ]
    },
    {
     "name": "stdout",
     "output_type": "stream",
     "text": [
      "n=4\n",
      "Train MSE=5.386159881194449\n",
      "Train RMSE=2.32081017776001\n",
      "Test MSE=6.482214581927505\n",
      "Test RMSE=2.546019360084975\n"
     ]
    },
    {
     "name": "stderr",
     "output_type": "stream",
     "text": [
      "/Users/nesli/opt/anaconda3/lib/python3.8/site-packages/sklearn/neural_network/_multilayer_perceptron.py:692: ConvergenceWarning: Stochastic Optimizer: Maximum iterations (500) reached and the optimization hasn't converged yet.\n",
      "  warnings.warn(\n",
      "/Users/nesli/opt/anaconda3/lib/python3.8/site-packages/sklearn/neural_network/_multilayer_perceptron.py:1599: DataConversionWarning: A column-vector y was passed when a 1d array was expected. Please change the shape of y to (n_samples, ), for example using ravel().\n",
      "  y = column_or_1d(y, warn=True)\n"
     ]
    },
    {
     "name": "stdout",
     "output_type": "stream",
     "text": [
      "n=5\n",
      "Train MSE=4.6593559910818225\n",
      "Train RMSE=2.1585541436530664\n",
      "Test MSE=5.738739873142128\n",
      "Test RMSE=2.3955667123130024\n"
     ]
    },
    {
     "name": "stderr",
     "output_type": "stream",
     "text": [
      "/Users/nesli/opt/anaconda3/lib/python3.8/site-packages/sklearn/neural_network/_multilayer_perceptron.py:692: ConvergenceWarning: Stochastic Optimizer: Maximum iterations (500) reached and the optimization hasn't converged yet.\n",
      "  warnings.warn(\n",
      "/Users/nesli/opt/anaconda3/lib/python3.8/site-packages/sklearn/neural_network/_multilayer_perceptron.py:1599: DataConversionWarning: A column-vector y was passed when a 1d array was expected. Please change the shape of y to (n_samples, ), for example using ravel().\n",
      "  y = column_or_1d(y, warn=True)\n"
     ]
    },
    {
     "name": "stdout",
     "output_type": "stream",
     "text": [
      "n=6\n",
      "Train MSE=5.574693585190614\n",
      "Train RMSE=2.361078902788006\n",
      "Test MSE=6.647262881171073\n",
      "Test RMSE=2.5782286324472996\n"
     ]
    },
    {
     "name": "stderr",
     "output_type": "stream",
     "text": [
      "/Users/nesli/opt/anaconda3/lib/python3.8/site-packages/sklearn/neural_network/_multilayer_perceptron.py:692: ConvergenceWarning: Stochastic Optimizer: Maximum iterations (500) reached and the optimization hasn't converged yet.\n",
      "  warnings.warn(\n",
      "/Users/nesli/opt/anaconda3/lib/python3.8/site-packages/sklearn/neural_network/_multilayer_perceptron.py:1599: DataConversionWarning: A column-vector y was passed when a 1d array was expected. Please change the shape of y to (n_samples, ), for example using ravel().\n",
      "  y = column_or_1d(y, warn=True)\n"
     ]
    },
    {
     "name": "stdout",
     "output_type": "stream",
     "text": [
      "n=7\n",
      "Train MSE=5278.8522039131985\n",
      "Train RMSE=72.65571005718132\n",
      "Test MSE=5282.151334485197\n",
      "Test RMSE=72.6784103739563\n"
     ]
    },
    {
     "name": "stderr",
     "output_type": "stream",
     "text": [
      "/Users/nesli/opt/anaconda3/lib/python3.8/site-packages/sklearn/neural_network/_multilayer_perceptron.py:692: ConvergenceWarning: Stochastic Optimizer: Maximum iterations (500) reached and the optimization hasn't converged yet.\n",
      "  warnings.warn(\n",
      "/Users/nesli/opt/anaconda3/lib/python3.8/site-packages/sklearn/neural_network/_multilayer_perceptron.py:1599: DataConversionWarning: A column-vector y was passed when a 1d array was expected. Please change the shape of y to (n_samples, ), for example using ravel().\n",
      "  y = column_or_1d(y, warn=True)\n"
     ]
    },
    {
     "name": "stdout",
     "output_type": "stream",
     "text": [
      "n=8\n",
      "Train MSE=3.0699815403985315\n",
      "Train RMSE=1.7521362790600883\n",
      "Test MSE=4.071391795373545\n",
      "Test RMSE=2.0177690143754177\n"
     ]
    },
    {
     "name": "stderr",
     "output_type": "stream",
     "text": [
      "/Users/nesli/opt/anaconda3/lib/python3.8/site-packages/sklearn/neural_network/_multilayer_perceptron.py:692: ConvergenceWarning: Stochastic Optimizer: Maximum iterations (500) reached and the optimization hasn't converged yet.\n",
      "  warnings.warn(\n",
      "/Users/nesli/opt/anaconda3/lib/python3.8/site-packages/sklearn/neural_network/_multilayer_perceptron.py:1599: DataConversionWarning: A column-vector y was passed when a 1d array was expected. Please change the shape of y to (n_samples, ), for example using ravel().\n",
      "  y = column_or_1d(y, warn=True)\n"
     ]
    },
    {
     "name": "stdout",
     "output_type": "stream",
     "text": [
      "n=9\n",
      "Train MSE=3.577265941915578\n",
      "Train RMSE=1.89136615754739\n",
      "Test MSE=4.547493157567647\n",
      "Test RMSE=2.1324852068813156\n",
      "n=10\n",
      "Train MSE=3.1904306503877407\n",
      "Train RMSE=1.7861776648440493\n",
      "Test MSE=4.113939497596492\n",
      "Test RMSE=2.0282848659881316\n"
     ]
    },
    {
     "name": "stderr",
     "output_type": "stream",
     "text": [
      "/Users/nesli/opt/anaconda3/lib/python3.8/site-packages/sklearn/neural_network/_multilayer_perceptron.py:692: ConvergenceWarning: Stochastic Optimizer: Maximum iterations (500) reached and the optimization hasn't converged yet.\n",
      "  warnings.warn(\n"
     ]
    }
   ],
   "source": [
    "for n in n_list:\n",
    "    mlp = MLPRegressor(hidden_layer_sizes=(n_inputs,n,n_outputs), activation='relu', solver='adam', max_iter=500)\n",
    "    mlp.fit(X_train,y_train)\n",
    "\n",
    "    predict_train = mlp.predict(X_train)\n",
    "    predict_test = mlp.predict(X_test)\n",
    "    \n",
    "    print(\"n=\"+str(n))\n",
    "    # For train\n",
    "    mse = mean_squared_error(y_train, predict_train)\n",
    "    print(\"Train MSE=\"+str(mse))\n",
    "    print(\"Train RMSE=\"+str(np.sqrt(mse)))\n",
    "    \n",
    "    # For test\n",
    "    mse = mean_squared_error(y_test, predict_test)\n",
    "    print(\"Test MSE=\"+str(mse))\n",
    "    print(\"Test RMSE=\"+str(np.sqrt(mse)))"
   ]
  },
  {
   "cell_type": "markdown",
   "id": "16232d36",
   "metadata": {},
   "source": [
    "Choose $n=8$."
   ]
  },
  {
   "cell_type": "code",
   "execution_count": 37,
   "id": "5d4ba7ad",
   "metadata": {},
   "outputs": [
    {
     "name": "stderr",
     "output_type": "stream",
     "text": [
      "/Users/nesli/opt/anaconda3/lib/python3.8/site-packages/sklearn/neural_network/_multilayer_perceptron.py:1599: DataConversionWarning: A column-vector y was passed when a 1d array was expected. Please change the shape of y to (n_samples, ), for example using ravel().\n",
      "  y = column_or_1d(y, warn=True)\n"
     ]
    },
    {
     "name": "stdout",
     "output_type": "stream",
     "text": [
      "n=10\n",
      "Train MSE=5050.366768112017\n",
      "Train RMSE=71.06593254233717\n",
      "Test MSE=5053.594089485371\n",
      "Test RMSE=71.0886354453746\n"
     ]
    },
    {
     "name": "stderr",
     "output_type": "stream",
     "text": [
      "/Users/nesli/opt/anaconda3/lib/python3.8/site-packages/sklearn/neural_network/_multilayer_perceptron.py:692: ConvergenceWarning: Stochastic Optimizer: Maximum iterations (500) reached and the optimization hasn't converged yet.\n",
      "  warnings.warn(\n"
     ]
    }
   ],
   "source": [
    "mlp = MLPRegressor(hidden_layer_sizes=(n_inputs,8,n_outputs), activation='relu', solver='adam', max_iter=500)\n",
    "mlp.fit(X_train,y_train)\n",
    "\n",
    "predict_train = mlp.predict(X_train)\n",
    "predict_test = mlp.predict(X_test)\n",
    "\n",
    "print(\"n=\"+str(n))\n",
    "# For train\n",
    "mse = mean_squared_error(y_train, predict_train)\n",
    "print(\"Train MSE=\"+str(mse))\n",
    "print(\"Train RMSE=\"+str(np.sqrt(mse)))\n",
    "    \n",
    "# For test\n",
    "mse = mean_squared_error(y_test, predict_test)\n",
    "print(\"Test MSE=\"+str(mse))\n",
    "print(\"Test RMSE=\"+str(np.sqrt(mse)))"
   ]
  },
  {
   "cell_type": "code",
   "execution_count": null,
   "id": "05ba1d79",
   "metadata": {},
   "outputs": [],
   "source": []
  },
  {
   "cell_type": "code",
   "execution_count": null,
   "id": "61c32210",
   "metadata": {},
   "outputs": [],
   "source": []
  },
  {
   "cell_type": "code",
   "execution_count": null,
   "id": "9a957d80",
   "metadata": {},
   "outputs": [],
   "source": []
  },
  {
   "cell_type": "code",
   "execution_count": null,
   "id": "3c070497",
   "metadata": {},
   "outputs": [],
   "source": []
  },
  {
   "cell_type": "code",
   "execution_count": null,
   "id": "937cf762",
   "metadata": {},
   "outputs": [],
   "source": []
  },
  {
   "cell_type": "code",
   "execution_count": null,
   "id": "47506abb",
   "metadata": {},
   "outputs": [],
   "source": []
  },
  {
   "cell_type": "code",
   "execution_count": null,
   "id": "5c94e6a9",
   "metadata": {},
   "outputs": [],
   "source": []
  },
  {
   "cell_type": "code",
   "execution_count": null,
   "id": "16d7aa0a",
   "metadata": {},
   "outputs": [],
   "source": []
  },
  {
   "cell_type": "code",
   "execution_count": null,
   "id": "3754eea2",
   "metadata": {},
   "outputs": [],
   "source": []
  },
  {
   "cell_type": "markdown",
   "id": "12aa5498",
   "metadata": {},
   "source": [
    "## References\n",
    "\n",
    "[1] https://blog.finxter.com/tutorial-how-to-create-your-first-neural-network-in-1-line-of-python-code/\n",
    "\n",
    "[2] Caliskan, Cantay. DSCC 465: Introduction to Statistical Machine Learning, Spring 2022, University of Rochester, Rochester NY.\n",
    "\n"
   ]
  },
  {
   "cell_type": "code",
   "execution_count": null,
   "id": "7024dfef",
   "metadata": {},
   "outputs": [],
   "source": []
  }
 ],
 "metadata": {
  "kernelspec": {
   "display_name": "Python 3 (ipykernel)",
   "language": "python",
   "name": "python3"
  },
  "language_info": {
   "codemirror_mode": {
    "name": "ipython",
    "version": 3
   },
   "file_extension": ".py",
   "mimetype": "text/x-python",
   "name": "python",
   "nbconvert_exporter": "python",
   "pygments_lexer": "ipython3",
   "version": "3.8.13"
  }
 },
 "nbformat": 4,
 "nbformat_minor": 5
}
