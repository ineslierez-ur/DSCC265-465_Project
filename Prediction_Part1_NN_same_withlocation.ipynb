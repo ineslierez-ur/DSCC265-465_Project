{
 "cells": [
  {
   "cell_type": "markdown",
   "id": "05cdd07b",
   "metadata": {},
   "source": [
    "# Prediction Models Part 1: Neural Network\n",
    "\n",
    "Regarding the possible linear dependence of the features and to avoid overfitting, we apply:\n",
    "\n",
    "1. ElasticNet regression\n",
    "\n",
    "2. KNN\n",
    "\n",
    "3. Neural Network models. \n",
    "\n",
    "In order to decide on model parameters and compare different models' accuracies, we use cross validation techniques like k-fold cross validation, LOOCV, and stratification considering the small number of observations."
   ]
  },
  {
   "cell_type": "code",
   "execution_count": 1,
   "id": "3460f833",
   "metadata": {},
   "outputs": [],
   "source": [
    "#Importing necessary packages\n",
    "\n",
    "import os\n",
    "import numpy as np\n",
    "import sklearn\n",
    "import pandas as pd\n",
    "import random\n",
    "\n",
    "#For plotting\n",
    "%matplotlib inline\n",
    "import matplotlib as mpl\n",
    "import matplotlib.pyplot as plt\n",
    "\n",
    "from sklearn import preprocessing\n",
    "from sklearn.decomposition import PCA\n",
    "from sklearn.manifold import SpectralEmbedding\n",
    "from sklearn.manifold import TSNE\n",
    "\n",
    "from sklearn.linear_model import ElasticNet,ElasticNetCV \n",
    "from sklearn.model_selection import cross_val_score\n",
    "from sklearn.model_selection import train_test_split\n",
    "from sklearn.model_selection import RepeatedKFold\n",
    "from sklearn.metrics import mean_squared_error,r2_score\n",
    "\n",
    "#import theano\n",
    "#import tensorflow\n",
    "#import keras\n",
    "#from keras.models import Sequential\n",
    "#from keras.layers import Dense\n",
    "\n",
    "from scipy import interpolate\n",
    "from scipy.spatial import ConvexHull\n",
    "import matplotlib.pyplot as plt\n",
    "import matplotlib as mpl\n",
    "import seaborn as sns\n",
    "\n",
    "path = '/Users/nesli/Desktop/SPRING2022/DSCC465/Project/'\n",
    "os.chdir(path)\n",
    "\n",
    "random.seed(265) #seed"
   ]
  },
  {
   "cell_type": "code",
   "execution_count": 1,
   "id": "5b0efe10",
   "metadata": {},
   "outputs": [],
   "source": [
    "import pandas as pd\n",
    "import numpy as np \n",
    "import matplotlib.pyplot as plt\n",
    "import sklearn\n",
    "from sklearn.neural_network import MLPClassifier\n",
    "from sklearn.neural_network import MLPRegressor\n",
    "\n",
    "# Import necessary modules\n",
    "from sklearn.model_selection import train_test_split\n",
    "from sklearn.metrics import mean_squared_error\n",
    "from math import sqrt\n",
    "from sklearn.metrics import r2_score\n",
    "from sklearn.neural_network import MLPRegressor"
   ]
  },
  {
   "cell_type": "markdown",
   "id": "e848d04c",
   "metadata": {},
   "source": [
    "## Read the data"
   ]
  },
  {
   "cell_type": "code",
   "execution_count": 2,
   "id": "c750e68a",
   "metadata": {},
   "outputs": [],
   "source": [
    "X=pd.read_csv('X_same_with_location_with_pcs.csv')"
   ]
  },
  {
   "cell_type": "code",
   "execution_count": 3,
   "id": "ae0155ad",
   "metadata": {},
   "outputs": [],
   "source": [
    "y=pd.read_csv('y.csv')"
   ]
  },
  {
   "cell_type": "code",
   "execution_count": 4,
   "id": "5fd39551",
   "metadata": {},
   "outputs": [],
   "source": [
    "X.drop(columns=X.columns[0], axis=1, inplace=True)"
   ]
  },
  {
   "cell_type": "code",
   "execution_count": 5,
   "id": "c2b503f5",
   "metadata": {},
   "outputs": [],
   "source": [
    "y.drop(columns=y.columns[0], axis=1, inplace=True)"
   ]
  },
  {
   "cell_type": "markdown",
   "id": "a1cf4224",
   "metadata": {},
   "source": [
    "## Train-test split"
   ]
  },
  {
   "cell_type": "code",
   "execution_count": 6,
   "id": "ab2bcc9c",
   "metadata": {},
   "outputs": [],
   "source": [
    "X_train, X_test, y_train, y_test = train_test_split(X, y, test_size=0.3, random_state=465)"
   ]
  },
  {
   "cell_type": "markdown",
   "id": "c2704d87",
   "metadata": {},
   "source": [
    "## Build NN"
   ]
  },
  {
   "cell_type": "markdown",
   "id": "14813344",
   "metadata": {},
   "source": [
    "We follow from [1]"
   ]
  },
  {
   "cell_type": "code",
   "execution_count": 7,
   "id": "2d0c3e50",
   "metadata": {},
   "outputs": [
    {
     "name": "stderr",
     "output_type": "stream",
     "text": [
      "/Users/nesli/opt/anaconda3/lib/python3.8/site-packages/sklearn/neural_network/_multilayer_perceptron.py:1599: DataConversionWarning: A column-vector y was passed when a 1d array was expected. Please change the shape of y to (n_samples, ), for example using ravel().\n",
      "  y = column_or_1d(y, warn=True)\n",
      "/Users/nesli/opt/anaconda3/lib/python3.8/site-packages/sklearn/neural_network/_multilayer_perceptron.py:692: ConvergenceWarning: Stochastic Optimizer: Maximum iterations (500) reached and the optimization hasn't converged yet.\n",
      "  warnings.warn(\n"
     ]
    }
   ],
   "source": [
    "mlp = MLPRegressor(hidden_layer_sizes=(8,8,8), activation='relu', solver='adam', max_iter=500)\n",
    "mlp.fit(X_train,y_train)\n",
    "\n",
    "predict_train = mlp.predict(X_train)\n",
    "predict_test = mlp.predict(X_test)"
   ]
  },
  {
   "cell_type": "code",
   "execution_count": 8,
   "id": "0d9756c5",
   "metadata": {},
   "outputs": [
    {
     "data": {
      "text/plain": [
       "1.7087347985627221"
      ]
     },
     "execution_count": 8,
     "metadata": {},
     "output_type": "execute_result"
    }
   ],
   "source": [
    "# For train\n",
    "mse = mean_squared_error(y_train, predict_train)\n",
    "mse"
   ]
  },
  {
   "cell_type": "code",
   "execution_count": 9,
   "id": "a44852e3",
   "metadata": {},
   "outputs": [
    {
     "data": {
      "text/plain": [
       "1.3071858316868044"
      ]
     },
     "execution_count": 9,
     "metadata": {},
     "output_type": "execute_result"
    }
   ],
   "source": [
    "np.sqrt(mse)"
   ]
  },
  {
   "cell_type": "code",
   "execution_count": 10,
   "id": "d720967f",
   "metadata": {},
   "outputs": [
    {
     "data": {
      "text/plain": [
       "2.1932037700068157"
      ]
     },
     "execution_count": 10,
     "metadata": {},
     "output_type": "execute_result"
    }
   ],
   "source": [
    "# For test\n",
    "mse = mean_squared_error(y_test, predict_test)\n",
    "mse"
   ]
  },
  {
   "cell_type": "code",
   "execution_count": 11,
   "id": "67e4af05",
   "metadata": {},
   "outputs": [
    {
     "data": {
      "text/plain": [
       "1.4809469166741986"
      ]
     },
     "execution_count": 11,
     "metadata": {},
     "output_type": "execute_result"
    }
   ],
   "source": [
    "np.sqrt(mse)"
   ]
  },
  {
   "cell_type": "markdown",
   "id": "b95a1cc2",
   "metadata": {},
   "source": [
    "## Change the structure of NNs"
   ]
  },
  {
   "cell_type": "code",
   "execution_count": 12,
   "id": "1b4993fa",
   "metadata": {},
   "outputs": [],
   "source": [
    "n_inputs = X_train.shape[1]\n",
    "n_outputs=1"
   ]
  },
  {
   "cell_type": "code",
   "execution_count": 13,
   "id": "5151fff6",
   "metadata": {},
   "outputs": [
    {
     "name": "stderr",
     "output_type": "stream",
     "text": [
      "/Users/nesli/opt/anaconda3/lib/python3.8/site-packages/sklearn/neural_network/_multilayer_perceptron.py:1599: DataConversionWarning: A column-vector y was passed when a 1d array was expected. Please change the shape of y to (n_samples, ), for example using ravel().\n",
      "  y = column_or_1d(y, warn=True)\n",
      "/Users/nesli/opt/anaconda3/lib/python3.8/site-packages/sklearn/neural_network/_multilayer_perceptron.py:692: ConvergenceWarning: Stochastic Optimizer: Maximum iterations (500) reached and the optimization hasn't converged yet.\n",
      "  warnings.warn(\n"
     ]
    }
   ],
   "source": [
    "mlp = MLPRegressor(hidden_layer_sizes=(n_inputs,8,n_outputs), activation='relu', solver='adam', max_iter=500)\n",
    "mlp.fit(X_train,y_train)\n",
    "\n",
    "predict_train = mlp.predict(X_train)\n",
    "predict_test = mlp.predict(X_test)"
   ]
  },
  {
   "cell_type": "code",
   "execution_count": 14,
   "id": "381b40e8",
   "metadata": {},
   "outputs": [
    {
     "data": {
      "text/plain": [
       "5364.717113810881"
      ]
     },
     "execution_count": 14,
     "metadata": {},
     "output_type": "execute_result"
    }
   ],
   "source": [
    "# For train\n",
    "mse = mean_squared_error(y_train, predict_train)\n",
    "mse"
   ]
  },
  {
   "cell_type": "code",
   "execution_count": 15,
   "id": "ff2a93a2",
   "metadata": {},
   "outputs": [
    {
     "data": {
      "text/plain": [
       "73.2442292184912"
      ]
     },
     "execution_count": 15,
     "metadata": {},
     "output_type": "execute_result"
    }
   ],
   "source": [
    "np.sqrt(mse)"
   ]
  },
  {
   "cell_type": "code",
   "execution_count": 16,
   "id": "d14af9f5",
   "metadata": {},
   "outputs": [
    {
     "data": {
      "text/plain": [
       "5368.042826707887"
      ]
     },
     "execution_count": 16,
     "metadata": {},
     "output_type": "execute_result"
    }
   ],
   "source": [
    "# For test\n",
    "mse = mean_squared_error(y_test, predict_test)\n",
    "mse"
   ]
  },
  {
   "cell_type": "code",
   "execution_count": 17,
   "id": "8f642858",
   "metadata": {},
   "outputs": [
    {
     "data": {
      "text/plain": [
       "73.26692860157226"
      ]
     },
     "execution_count": 17,
     "metadata": {},
     "output_type": "execute_result"
    }
   ],
   "source": [
    "np.sqrt(mse)"
   ]
  },
  {
   "cell_type": "code",
   "execution_count": 18,
   "id": "607420b0",
   "metadata": {},
   "outputs": [
    {
     "name": "stderr",
     "output_type": "stream",
     "text": [
      "/Users/nesli/opt/anaconda3/lib/python3.8/site-packages/sklearn/neural_network/_multilayer_perceptron.py:1599: DataConversionWarning: A column-vector y was passed when a 1d array was expected. Please change the shape of y to (n_samples, ), for example using ravel().\n",
      "  y = column_or_1d(y, warn=True)\n",
      "/Users/nesli/opt/anaconda3/lib/python3.8/site-packages/sklearn/neural_network/_multilayer_perceptron.py:692: ConvergenceWarning: Stochastic Optimizer: Maximum iterations (500) reached and the optimization hasn't converged yet.\n",
      "  warnings.warn(\n"
     ]
    }
   ],
   "source": [
    "mlp = MLPRegressor(hidden_layer_sizes=(n_inputs,10,n_outputs), activation='relu', solver='adam', max_iter=500)\n",
    "mlp.fit(X_train,y_train)\n",
    "\n",
    "predict_train = mlp.predict(X_train)\n",
    "predict_test = mlp.predict(X_test)"
   ]
  },
  {
   "cell_type": "code",
   "execution_count": 19,
   "id": "9545ffa1",
   "metadata": {},
   "outputs": [
    {
     "data": {
      "text/plain": [
       "0.5282093248394054"
      ]
     },
     "execution_count": 19,
     "metadata": {},
     "output_type": "execute_result"
    }
   ],
   "source": [
    "# For train\n",
    "mse = mean_squared_error(y_train, predict_train)\n",
    "mse"
   ]
  },
  {
   "cell_type": "code",
   "execution_count": 20,
   "id": "d7adf49f",
   "metadata": {},
   "outputs": [
    {
     "data": {
      "text/plain": [
       "0.7267801076249992"
      ]
     },
     "execution_count": 20,
     "metadata": {},
     "output_type": "execute_result"
    }
   ],
   "source": [
    "np.sqrt(mse)"
   ]
  },
  {
   "cell_type": "code",
   "execution_count": 21,
   "id": "1cb3f82f",
   "metadata": {},
   "outputs": [
    {
     "data": {
      "text/plain": [
       "0.7813634796545373"
      ]
     },
     "execution_count": 21,
     "metadata": {},
     "output_type": "execute_result"
    }
   ],
   "source": [
    "# For test\n",
    "mse = mean_squared_error(y_test, predict_test)\n",
    "mse"
   ]
  },
  {
   "cell_type": "code",
   "execution_count": 22,
   "id": "75fbfc72",
   "metadata": {},
   "outputs": [
    {
     "data": {
      "text/plain": [
       "0.8839476679388534"
      ]
     },
     "execution_count": 22,
     "metadata": {},
     "output_type": "execute_result"
    }
   ],
   "source": [
    "np.sqrt(mse)"
   ]
  },
  {
   "cell_type": "code",
   "execution_count": 23,
   "id": "8d067a5b",
   "metadata": {},
   "outputs": [
    {
     "data": {
      "text/plain": [
       "array([ 1,  2,  3,  4,  5,  6,  7,  8,  9, 10])"
      ]
     },
     "execution_count": 23,
     "metadata": {},
     "output_type": "execute_result"
    }
   ],
   "source": [
    "n_list=np.arange(10)+1\n",
    "n_list"
   ]
  },
  {
   "cell_type": "code",
   "execution_count": 24,
   "id": "ca95b9f0",
   "metadata": {},
   "outputs": [
    {
     "name": "stderr",
     "output_type": "stream",
     "text": [
      "/Users/nesli/opt/anaconda3/lib/python3.8/site-packages/sklearn/neural_network/_multilayer_perceptron.py:1599: DataConversionWarning: A column-vector y was passed when a 1d array was expected. Please change the shape of y to (n_samples, ), for example using ravel().\n",
      "  y = column_or_1d(y, warn=True)\n",
      "/Users/nesli/opt/anaconda3/lib/python3.8/site-packages/sklearn/neural_network/_multilayer_perceptron.py:692: ConvergenceWarning: Stochastic Optimizer: Maximum iterations (500) reached and the optimization hasn't converged yet.\n",
      "  warnings.warn(\n",
      "/Users/nesli/opt/anaconda3/lib/python3.8/site-packages/sklearn/neural_network/_multilayer_perceptron.py:1599: DataConversionWarning: A column-vector y was passed when a 1d array was expected. Please change the shape of y to (n_samples, ), for example using ravel().\n",
      "  y = column_or_1d(y, warn=True)\n"
     ]
    },
    {
     "name": "stdout",
     "output_type": "stream",
     "text": [
      "n=1\n",
      "Train MSE=5168.541828283939\n",
      "Train RMSE=71.89257144019777\n",
      "Test MSE=5171.806488738488\n",
      "Test RMSE=71.91527298660895\n"
     ]
    },
    {
     "name": "stderr",
     "output_type": "stream",
     "text": [
      "/Users/nesli/opt/anaconda3/lib/python3.8/site-packages/sklearn/neural_network/_multilayer_perceptron.py:692: ConvergenceWarning: Stochastic Optimizer: Maximum iterations (500) reached and the optimization hasn't converged yet.\n",
      "  warnings.warn(\n",
      "/Users/nesli/opt/anaconda3/lib/python3.8/site-packages/sklearn/neural_network/_multilayer_perceptron.py:1599: DataConversionWarning: A column-vector y was passed when a 1d array was expected. Please change the shape of y to (n_samples, ), for example using ravel().\n",
      "  y = column_or_1d(y, warn=True)\n"
     ]
    },
    {
     "name": "stdout",
     "output_type": "stream",
     "text": [
      "n=2\n",
      "Train MSE=5418.536635276074\n",
      "Train RMSE=73.61071005822505\n",
      "Test MSE=5421.878901253167\n",
      "Test RMSE=73.63340886617411\n"
     ]
    },
    {
     "name": "stderr",
     "output_type": "stream",
     "text": [
      "/Users/nesli/opt/anaconda3/lib/python3.8/site-packages/sklearn/neural_network/_multilayer_perceptron.py:692: ConvergenceWarning: Stochastic Optimizer: Maximum iterations (500) reached and the optimization hasn't converged yet.\n",
      "  warnings.warn(\n",
      "/Users/nesli/opt/anaconda3/lib/python3.8/site-packages/sklearn/neural_network/_multilayer_perceptron.py:1599: DataConversionWarning: A column-vector y was passed when a 1d array was expected. Please change the shape of y to (n_samples, ), for example using ravel().\n",
      "  y = column_or_1d(y, warn=True)\n"
     ]
    },
    {
     "name": "stdout",
     "output_type": "stream",
     "text": [
      "n=3\n",
      "Train MSE=5044.236275013549\n",
      "Train RMSE=71.0227870124339\n",
      "Test MSE=5047.461647492402\n",
      "Test RMSE=71.04548998699637\n"
     ]
    },
    {
     "name": "stderr",
     "output_type": "stream",
     "text": [
      "/Users/nesli/opt/anaconda3/lib/python3.8/site-packages/sklearn/neural_network/_multilayer_perceptron.py:692: ConvergenceWarning: Stochastic Optimizer: Maximum iterations (500) reached and the optimization hasn't converged yet.\n",
      "  warnings.warn(\n",
      "/Users/nesli/opt/anaconda3/lib/python3.8/site-packages/sklearn/neural_network/_multilayer_perceptron.py:1599: DataConversionWarning: A column-vector y was passed when a 1d array was expected. Please change the shape of y to (n_samples, ), for example using ravel().\n",
      "  y = column_or_1d(y, warn=True)\n"
     ]
    },
    {
     "name": "stdout",
     "output_type": "stream",
     "text": [
      "n=4\n",
      "Train MSE=0.44013510979507375\n",
      "Train RMSE=0.6634267930940638\n",
      "Test MSE=0.7551654859227553\n",
      "Test RMSE=0.8690025810794554\n"
     ]
    },
    {
     "name": "stderr",
     "output_type": "stream",
     "text": [
      "/Users/nesli/opt/anaconda3/lib/python3.8/site-packages/sklearn/neural_network/_multilayer_perceptron.py:692: ConvergenceWarning: Stochastic Optimizer: Maximum iterations (500) reached and the optimization hasn't converged yet.\n",
      "  warnings.warn(\n",
      "/Users/nesli/opt/anaconda3/lib/python3.8/site-packages/sklearn/neural_network/_multilayer_perceptron.py:1599: DataConversionWarning: A column-vector y was passed when a 1d array was expected. Please change the shape of y to (n_samples, ), for example using ravel().\n",
      "  y = column_or_1d(y, warn=True)\n"
     ]
    },
    {
     "name": "stdout",
     "output_type": "stream",
     "text": [
      "n=5\n",
      "Train MSE=5173.466387866193\n",
      "Train RMSE=71.92681271866698\n",
      "Test MSE=5176.732594974621\n",
      "Test RMSE=71.94951420944147\n"
     ]
    },
    {
     "name": "stderr",
     "output_type": "stream",
     "text": [
      "/Users/nesli/opt/anaconda3/lib/python3.8/site-packages/sklearn/neural_network/_multilayer_perceptron.py:692: ConvergenceWarning: Stochastic Optimizer: Maximum iterations (500) reached and the optimization hasn't converged yet.\n",
      "  warnings.warn(\n",
      "/Users/nesli/opt/anaconda3/lib/python3.8/site-packages/sklearn/neural_network/_multilayer_perceptron.py:1599: DataConversionWarning: A column-vector y was passed when a 1d array was expected. Please change the shape of y to (n_samples, ), for example using ravel().\n",
      "  y = column_or_1d(y, warn=True)\n"
     ]
    },
    {
     "name": "stdout",
     "output_type": "stream",
     "text": [
      "n=6\n",
      "Train MSE=5325.061040608714\n",
      "Train RMSE=72.97301583879286\n",
      "Test MSE=5328.374503343118\n",
      "Test RMSE=72.9957156505991\n"
     ]
    },
    {
     "name": "stderr",
     "output_type": "stream",
     "text": [
      "/Users/nesli/opt/anaconda3/lib/python3.8/site-packages/sklearn/neural_network/_multilayer_perceptron.py:692: ConvergenceWarning: Stochastic Optimizer: Maximum iterations (500) reached and the optimization hasn't converged yet.\n",
      "  warnings.warn(\n",
      "/Users/nesli/opt/anaconda3/lib/python3.8/site-packages/sklearn/neural_network/_multilayer_perceptron.py:1599: DataConversionWarning: A column-vector y was passed when a 1d array was expected. Please change the shape of y to (n_samples, ), for example using ravel().\n",
      "  y = column_or_1d(y, warn=True)\n"
     ]
    },
    {
     "name": "stdout",
     "output_type": "stream",
     "text": [
      "n=7\n",
      "Train MSE=5380.450894591649\n",
      "Train RMSE=73.35155686549297\n",
      "Test MSE=5383.7814552412165\n",
      "Test RMSE=73.37425607964428\n"
     ]
    },
    {
     "name": "stderr",
     "output_type": "stream",
     "text": [
      "/Users/nesli/opt/anaconda3/lib/python3.8/site-packages/sklearn/neural_network/_multilayer_perceptron.py:692: ConvergenceWarning: Stochastic Optimizer: Maximum iterations (500) reached and the optimization hasn't converged yet.\n",
      "  warnings.warn(\n",
      "/Users/nesli/opt/anaconda3/lib/python3.8/site-packages/sklearn/neural_network/_multilayer_perceptron.py:1599: DataConversionWarning: A column-vector y was passed when a 1d array was expected. Please change the shape of y to (n_samples, ), for example using ravel().\n",
      "  y = column_or_1d(y, warn=True)\n"
     ]
    },
    {
     "name": "stdout",
     "output_type": "stream",
     "text": [
      "n=8\n",
      "Train MSE=0.634729700280821\n",
      "Train RMSE=0.7966992533452137\n",
      "Test MSE=0.9058631324620007\n",
      "Test RMSE=0.9517684237575864\n"
     ]
    },
    {
     "name": "stderr",
     "output_type": "stream",
     "text": [
      "/Users/nesli/opt/anaconda3/lib/python3.8/site-packages/sklearn/neural_network/_multilayer_perceptron.py:692: ConvergenceWarning: Stochastic Optimizer: Maximum iterations (500) reached and the optimization hasn't converged yet.\n",
      "  warnings.warn(\n",
      "/Users/nesli/opt/anaconda3/lib/python3.8/site-packages/sklearn/neural_network/_multilayer_perceptron.py:1599: DataConversionWarning: A column-vector y was passed when a 1d array was expected. Please change the shape of y to (n_samples, ), for example using ravel().\n",
      "  y = column_or_1d(y, warn=True)\n"
     ]
    },
    {
     "name": "stdout",
     "output_type": "stream",
     "text": [
      "n=9\n",
      "Train MSE=0.23212661370437224\n",
      "Train RMSE=0.48179519892208583\n",
      "Test MSE=0.413787507146594\n",
      "Test RMSE=0.6432631709857125\n",
      "n=10\n",
      "Train MSE=0.6895344785881903\n",
      "Train RMSE=0.8303821280520134\n",
      "Test MSE=1.0155841723113708\n",
      "Test RMSE=1.00776196212765\n"
     ]
    },
    {
     "name": "stderr",
     "output_type": "stream",
     "text": [
      "/Users/nesli/opt/anaconda3/lib/python3.8/site-packages/sklearn/neural_network/_multilayer_perceptron.py:692: ConvergenceWarning: Stochastic Optimizer: Maximum iterations (500) reached and the optimization hasn't converged yet.\n",
      "  warnings.warn(\n"
     ]
    }
   ],
   "source": [
    "for n in n_list:\n",
    "    mlp = MLPRegressor(hidden_layer_sizes=(n_inputs,n,n_outputs), activation='relu', solver='adam', max_iter=500)\n",
    "    mlp.fit(X_train,y_train)\n",
    "\n",
    "    predict_train = mlp.predict(X_train)\n",
    "    predict_test = mlp.predict(X_test)\n",
    "    \n",
    "    print(\"n=\"+str(n))\n",
    "    # For train\n",
    "    mse = mean_squared_error(y_train, predict_train)\n",
    "    print(\"Train MSE=\"+str(mse))\n",
    "    print(\"Train RMSE=\"+str(np.sqrt(mse)))\n",
    "    \n",
    "    # For test\n",
    "    mse = mean_squared_error(y_test, predict_test)\n",
    "    print(\"Test MSE=\"+str(mse))\n",
    "    print(\"Test RMSE=\"+str(np.sqrt(mse)))"
   ]
  },
  {
   "cell_type": "markdown",
   "id": "947598da",
   "metadata": {},
   "source": [
    "Choose n that minimizes RMSE for both train and test sets and that RMSEs for test and train sets are similar. If RMSE of train set is much less than test set, that would signal overfitting. So we choose $n=9$."
   ]
  },
  {
   "cell_type": "code",
   "execution_count": 25,
   "id": "033f8fba",
   "metadata": {},
   "outputs": [
    {
     "name": "stderr",
     "output_type": "stream",
     "text": [
      "/Users/nesli/opt/anaconda3/lib/python3.8/site-packages/sklearn/neural_network/_multilayer_perceptron.py:1599: DataConversionWarning: A column-vector y was passed when a 1d array was expected. Please change the shape of y to (n_samples, ), for example using ravel().\n",
      "  y = column_or_1d(y, warn=True)\n"
     ]
    },
    {
     "name": "stdout",
     "output_type": "stream",
     "text": [
      "n=10\n",
      "Train MSE=1.0598060814625334\n",
      "Train RMSE=1.029468834624212\n",
      "Test MSE=1.4685391396688812\n",
      "Test RMSE=1.2118329669013306\n"
     ]
    },
    {
     "name": "stderr",
     "output_type": "stream",
     "text": [
      "/Users/nesli/opt/anaconda3/lib/python3.8/site-packages/sklearn/neural_network/_multilayer_perceptron.py:692: ConvergenceWarning: Stochastic Optimizer: Maximum iterations (500) reached and the optimization hasn't converged yet.\n",
      "  warnings.warn(\n"
     ]
    }
   ],
   "source": [
    "mlp = MLPRegressor(hidden_layer_sizes=(n_inputs,9,n_outputs), activation='relu', solver='adam', max_iter=500)\n",
    "mlp.fit(X_train,y_train)\n",
    "\n",
    "predict_train = mlp.predict(X_train)\n",
    "predict_test = mlp.predict(X_test)\n",
    "\n",
    "print(\"n=\"+str(n))\n",
    "# For train\n",
    "mse = mean_squared_error(y_train, predict_train)\n",
    "print(\"Train MSE=\"+str(mse))\n",
    "print(\"Train RMSE=\"+str(np.sqrt(mse)))\n",
    "    \n",
    "# For test\n",
    "mse = mean_squared_error(y_test, predict_test)\n",
    "print(\"Test MSE=\"+str(mse))\n",
    "print(\"Test RMSE=\"+str(np.sqrt(mse)))"
   ]
  },
  {
   "cell_type": "code",
   "execution_count": 26,
   "id": "89a1b287",
   "metadata": {},
   "outputs": [],
   "source": [
    "predict_test=pd.DataFrame(predict_test, columns=['life_expectancy'])"
   ]
  },
  {
   "cell_type": "code",
   "execution_count": 27,
   "id": "7c99b6a0",
   "metadata": {},
   "outputs": [],
   "source": [
    "predict_test.to_csv('y_pred_same_withpcs_withlocation_NN.csv')"
   ]
  },
  {
   "cell_type": "markdown",
   "id": "64d404c6",
   "metadata": {},
   "source": [
    "## Remove PCA, spectral embedding, and t-SNE columns"
   ]
  },
  {
   "cell_type": "code",
   "execution_count": 28,
   "id": "53906594",
   "metadata": {},
   "outputs": [
    {
     "data": {
      "text/html": [
       "<div>\n",
       "<style scoped>\n",
       "    .dataframe tbody tr th:only-of-type {\n",
       "        vertical-align: middle;\n",
       "    }\n",
       "\n",
       "    .dataframe tbody tr th {\n",
       "        vertical-align: top;\n",
       "    }\n",
       "\n",
       "    .dataframe thead th {\n",
       "        text-align: right;\n",
       "    }\n",
       "</style>\n",
       "<table border=\"1\" class=\"dataframe\">\n",
       "  <thead>\n",
       "    <tr style=\"text-align: right;\">\n",
       "      <th></th>\n",
       "      <th>fips</th>\n",
       "      <th>state</th>\n",
       "      <th>county</th>\n",
       "      <th>percent_fair_or_poor_health</th>\n",
       "      <th>average_number_of_mentally_unhealthy_days</th>\n",
       "      <th>percent_smokers</th>\n",
       "      <th>percent_adults_with_obesity</th>\n",
       "      <th>food_environment_index</th>\n",
       "      <th>percent_excessive_drinking</th>\n",
       "      <th>num_driving_deaths</th>\n",
       "      <th>...</th>\n",
       "      <th>percentile_rank_social_vulnerability</th>\n",
       "      <th>pca_pc1</th>\n",
       "      <th>pca_pc2</th>\n",
       "      <th>pca_pc3</th>\n",
       "      <th>spec_pc1</th>\n",
       "      <th>spec_pc2</th>\n",
       "      <th>spec_pc3</th>\n",
       "      <th>tsne_pc1</th>\n",
       "      <th>tsne_pc2</th>\n",
       "      <th>tsne_pc3</th>\n",
       "    </tr>\n",
       "  </thead>\n",
       "  <tbody>\n",
       "    <tr>\n",
       "      <th>0</th>\n",
       "      <td>0.000000</td>\n",
       "      <td>0.00</td>\n",
       "      <td>0.000000</td>\n",
       "      <td>0.388267</td>\n",
       "      <td>0.561029</td>\n",
       "      <td>0.342101</td>\n",
       "      <td>0.461369</td>\n",
       "      <td>0.720000</td>\n",
       "      <td>0.346707</td>\n",
       "      <td>0.015506</td>\n",
       "      <td>...</td>\n",
       "      <td>0.377300</td>\n",
       "      <td>-0.617581</td>\n",
       "      <td>0.679175</td>\n",
       "      <td>-0.616937</td>\n",
       "      <td>0.000319</td>\n",
       "      <td>-0.001135</td>\n",
       "      <td>0.000854</td>\n",
       "      <td>7.407887</td>\n",
       "      <td>2.971455</td>\n",
       "      <td>8.557061</td>\n",
       "    </tr>\n",
       "    <tr>\n",
       "      <th>1</th>\n",
       "      <td>0.000036</td>\n",
       "      <td>0.00</td>\n",
       "      <td>0.000318</td>\n",
       "      <td>0.285624</td>\n",
       "      <td>0.468466</td>\n",
       "      <td>0.325449</td>\n",
       "      <td>0.410596</td>\n",
       "      <td>0.800000</td>\n",
       "      <td>0.487587</td>\n",
       "      <td>0.043699</td>\n",
       "      <td>...</td>\n",
       "      <td>0.275700</td>\n",
       "      <td>0.989203</td>\n",
       "      <td>0.559721</td>\n",
       "      <td>-0.697775</td>\n",
       "      <td>-0.000572</td>\n",
       "      <td>-0.000812</td>\n",
       "      <td>-0.001181</td>\n",
       "      <td>7.967915</td>\n",
       "      <td>-7.813225</td>\n",
       "      <td>-11.928781</td>\n",
       "    </tr>\n",
       "    <tr>\n",
       "      <th>2</th>\n",
       "      <td>0.000073</td>\n",
       "      <td>0.00</td>\n",
       "      <td>0.000636</td>\n",
       "      <td>0.653214</td>\n",
       "      <td>0.701619</td>\n",
       "      <td>0.452223</td>\n",
       "      <td>0.646799</td>\n",
       "      <td>0.560000</td>\n",
       "      <td>0.241874</td>\n",
       "      <td>0.008176</td>\n",
       "      <td>...</td>\n",
       "      <td>0.984700</td>\n",
       "      <td>-2.269580</td>\n",
       "      <td>1.067954</td>\n",
       "      <td>-0.198612</td>\n",
       "      <td>0.001081</td>\n",
       "      <td>0.000067</td>\n",
       "      <td>0.000832</td>\n",
       "      <td>0.075141</td>\n",
       "      <td>6.000968</td>\n",
       "      <td>9.530168</td>\n",
       "    </tr>\n",
       "    <tr>\n",
       "      <th>3</th>\n",
       "      <td>0.000109</td>\n",
       "      <td>0.00</td>\n",
       "      <td>0.000955</td>\n",
       "      <td>0.344359</td>\n",
       "      <td>0.533963</td>\n",
       "      <td>0.371122</td>\n",
       "      <td>0.556291</td>\n",
       "      <td>0.780000</td>\n",
       "      <td>0.372844</td>\n",
       "      <td>0.007894</td>\n",
       "      <td>...</td>\n",
       "      <td>0.573700</td>\n",
       "      <td>-3.954990</td>\n",
       "      <td>0.703167</td>\n",
       "      <td>-0.515253</td>\n",
       "      <td>0.001523</td>\n",
       "      <td>0.001325</td>\n",
       "      <td>-0.000975</td>\n",
       "      <td>-7.844172</td>\n",
       "      <td>6.632731</td>\n",
       "      <td>14.093078</td>\n",
       "    </tr>\n",
       "    <tr>\n",
       "      <th>4</th>\n",
       "      <td>0.000145</td>\n",
       "      <td>0.00</td>\n",
       "      <td>0.001273</td>\n",
       "      <td>0.414500</td>\n",
       "      <td>0.623824</td>\n",
       "      <td>0.373777</td>\n",
       "      <td>0.472406</td>\n",
       "      <td>0.840000</td>\n",
       "      <td>0.308491</td>\n",
       "      <td>0.020017</td>\n",
       "      <td>...</td>\n",
       "      <td>0.498600</td>\n",
       "      <td>-3.363042</td>\n",
       "      <td>0.250616</td>\n",
       "      <td>-0.987891</td>\n",
       "      <td>0.001420</td>\n",
       "      <td>0.001000</td>\n",
       "      <td>-0.000423</td>\n",
       "      <td>-4.885995</td>\n",
       "      <td>6.370840</td>\n",
       "      <td>15.935434</td>\n",
       "    </tr>\n",
       "    <tr>\n",
       "      <th>...</th>\n",
       "      <td>...</td>\n",
       "      <td>...</td>\n",
       "      <td>...</td>\n",
       "      <td>...</td>\n",
       "      <td>...</td>\n",
       "      <td>...</td>\n",
       "      <td>...</td>\n",
       "      <td>...</td>\n",
       "      <td>...</td>\n",
       "      <td>...</td>\n",
       "      <td>...</td>\n",
       "      <td>...</td>\n",
       "      <td>...</td>\n",
       "      <td>...</td>\n",
       "      <td>...</td>\n",
       "      <td>...</td>\n",
       "      <td>...</td>\n",
       "      <td>...</td>\n",
       "      <td>...</td>\n",
       "      <td>...</td>\n",
       "      <td>...</td>\n",
       "    </tr>\n",
       "    <tr>\n",
       "      <th>3139</th>\n",
       "      <td>0.999927</td>\n",
       "      <td>1.00</td>\n",
       "      <td>0.998727</td>\n",
       "      <td>0.225641</td>\n",
       "      <td>0.300716</td>\n",
       "      <td>0.317682</td>\n",
       "      <td>0.516556</td>\n",
       "      <td>0.740000</td>\n",
       "      <td>0.543080</td>\n",
       "      <td>0.005357</td>\n",
       "      <td>...</td>\n",
       "      <td>0.535200</td>\n",
       "      <td>1.742262</td>\n",
       "      <td>-0.324346</td>\n",
       "      <td>0.827852</td>\n",
       "      <td>-0.000855</td>\n",
       "      <td>-0.000251</td>\n",
       "      <td>-0.001153</td>\n",
       "      <td>2.224717</td>\n",
       "      <td>8.549556</td>\n",
       "      <td>-10.342960</td>\n",
       "    </tr>\n",
       "    <tr>\n",
       "      <th>3140</th>\n",
       "      <td>0.999964</td>\n",
       "      <td>1.00</td>\n",
       "      <td>0.999045</td>\n",
       "      <td>0.238373</td>\n",
       "      <td>0.304077</td>\n",
       "      <td>0.307754</td>\n",
       "      <td>0.362031</td>\n",
       "      <td>0.830000</td>\n",
       "      <td>0.418641</td>\n",
       "      <td>0.001128</td>\n",
       "      <td>...</td>\n",
       "      <td>0.592800</td>\n",
       "      <td>1.945007</td>\n",
       "      <td>-0.577848</td>\n",
       "      <td>0.590881</td>\n",
       "      <td>-0.000947</td>\n",
       "      <td>-0.000035</td>\n",
       "      <td>-0.001048</td>\n",
       "      <td>4.515257</td>\n",
       "      <td>5.636350</td>\n",
       "      <td>-14.508990</td>\n",
       "    </tr>\n",
       "    <tr>\n",
       "      <th>3141</th>\n",
       "      <td>1.000000</td>\n",
       "      <td>1.00</td>\n",
       "      <td>0.999364</td>\n",
       "      <td>0.176860</td>\n",
       "      <td>0.298239</td>\n",
       "      <td>0.303081</td>\n",
       "      <td>0.461369</td>\n",
       "      <td>0.790000</td>\n",
       "      <td>0.474434</td>\n",
       "      <td>0.002537</td>\n",
       "      <td>...</td>\n",
       "      <td>0.271600</td>\n",
       "      <td>3.054007</td>\n",
       "      <td>-0.601615</td>\n",
       "      <td>0.578433</td>\n",
       "      <td>-0.001263</td>\n",
       "      <td>0.000957</td>\n",
       "      <td>0.000265</td>\n",
       "      <td>-2.678241</td>\n",
       "      <td>5.768869</td>\n",
       "      <td>-15.942137</td>\n",
       "    </tr>\n",
       "    <tr>\n",
       "      <th>3142</th>\n",
       "      <td>0.672171</td>\n",
       "      <td>0.50</td>\n",
       "      <td>0.999682</td>\n",
       "      <td>0.251945</td>\n",
       "      <td>0.439812</td>\n",
       "      <td>0.359885</td>\n",
       "      <td>0.445514</td>\n",
       "      <td>0.738523</td>\n",
       "      <td>0.626147</td>\n",
       "      <td>0.184663</td>\n",
       "      <td>...</td>\n",
       "      <td>0.392899</td>\n",
       "      <td>0.731736</td>\n",
       "      <td>0.018675</td>\n",
       "      <td>0.484228</td>\n",
       "      <td>-0.000450</td>\n",
       "      <td>-0.000988</td>\n",
       "      <td>-0.001003</td>\n",
       "      <td>3.145697</td>\n",
       "      <td>-4.512575</td>\n",
       "      <td>-4.056016</td>\n",
       "    </tr>\n",
       "    <tr>\n",
       "      <th>3143</th>\n",
       "      <td>0.636945</td>\n",
       "      <td>0.64</td>\n",
       "      <td>1.000000</td>\n",
       "      <td>0.284821</td>\n",
       "      <td>0.340679</td>\n",
       "      <td>0.210347</td>\n",
       "      <td>0.201248</td>\n",
       "      <td>0.835690</td>\n",
       "      <td>0.570218</td>\n",
       "      <td>0.316324</td>\n",
       "      <td>...</td>\n",
       "      <td>0.724114</td>\n",
       "      <td>5.777208</td>\n",
       "      <td>0.866766</td>\n",
       "      <td>1.290273</td>\n",
       "      <td>-0.001448</td>\n",
       "      <td>0.001659</td>\n",
       "      <td>0.001583</td>\n",
       "      <td>-11.858775</td>\n",
       "      <td>3.206707</td>\n",
       "      <td>-8.933965</td>\n",
       "    </tr>\n",
       "  </tbody>\n",
       "</table>\n",
       "<p>3144 rows × 70 columns</p>\n",
       "</div>"
      ],
      "text/plain": [
       "          fips  state    county  percent_fair_or_poor_health  \\\n",
       "0     0.000000   0.00  0.000000                     0.388267   \n",
       "1     0.000036   0.00  0.000318                     0.285624   \n",
       "2     0.000073   0.00  0.000636                     0.653214   \n",
       "3     0.000109   0.00  0.000955                     0.344359   \n",
       "4     0.000145   0.00  0.001273                     0.414500   \n",
       "...        ...    ...       ...                          ...   \n",
       "3139  0.999927   1.00  0.998727                     0.225641   \n",
       "3140  0.999964   1.00  0.999045                     0.238373   \n",
       "3141  1.000000   1.00  0.999364                     0.176860   \n",
       "3142  0.672171   0.50  0.999682                     0.251945   \n",
       "3143  0.636945   0.64  1.000000                     0.284821   \n",
       "\n",
       "      average_number_of_mentally_unhealthy_days  percent_smokers  \\\n",
       "0                                      0.561029         0.342101   \n",
       "1                                      0.468466         0.325449   \n",
       "2                                      0.701619         0.452223   \n",
       "3                                      0.533963         0.371122   \n",
       "4                                      0.623824         0.373777   \n",
       "...                                         ...              ...   \n",
       "3139                                   0.300716         0.317682   \n",
       "3140                                   0.304077         0.307754   \n",
       "3141                                   0.298239         0.303081   \n",
       "3142                                   0.439812         0.359885   \n",
       "3143                                   0.340679         0.210347   \n",
       "\n",
       "      percent_adults_with_obesity  food_environment_index  \\\n",
       "0                        0.461369                0.720000   \n",
       "1                        0.410596                0.800000   \n",
       "2                        0.646799                0.560000   \n",
       "3                        0.556291                0.780000   \n",
       "4                        0.472406                0.840000   \n",
       "...                           ...                     ...   \n",
       "3139                     0.516556                0.740000   \n",
       "3140                     0.362031                0.830000   \n",
       "3141                     0.461369                0.790000   \n",
       "3142                     0.445514                0.738523   \n",
       "3143                     0.201248                0.835690   \n",
       "\n",
       "      percent_excessive_drinking  num_driving_deaths  ...  \\\n",
       "0                       0.346707            0.015506  ...   \n",
       "1                       0.487587            0.043699  ...   \n",
       "2                       0.241874            0.008176  ...   \n",
       "3                       0.372844            0.007894  ...   \n",
       "4                       0.308491            0.020017  ...   \n",
       "...                          ...                 ...  ...   \n",
       "3139                    0.543080            0.005357  ...   \n",
       "3140                    0.418641            0.001128  ...   \n",
       "3141                    0.474434            0.002537  ...   \n",
       "3142                    0.626147            0.184663  ...   \n",
       "3143                    0.570218            0.316324  ...   \n",
       "\n",
       "      percentile_rank_social_vulnerability   pca_pc1   pca_pc2   pca_pc3  \\\n",
       "0                                 0.377300 -0.617581  0.679175 -0.616937   \n",
       "1                                 0.275700  0.989203  0.559721 -0.697775   \n",
       "2                                 0.984700 -2.269580  1.067954 -0.198612   \n",
       "3                                 0.573700 -3.954990  0.703167 -0.515253   \n",
       "4                                 0.498600 -3.363042  0.250616 -0.987891   \n",
       "...                                    ...       ...       ...       ...   \n",
       "3139                              0.535200  1.742262 -0.324346  0.827852   \n",
       "3140                              0.592800  1.945007 -0.577848  0.590881   \n",
       "3141                              0.271600  3.054007 -0.601615  0.578433   \n",
       "3142                              0.392899  0.731736  0.018675  0.484228   \n",
       "3143                              0.724114  5.777208  0.866766  1.290273   \n",
       "\n",
       "      spec_pc1  spec_pc2  spec_pc3   tsne_pc1  tsne_pc2   tsne_pc3  \n",
       "0     0.000319 -0.001135  0.000854   7.407887  2.971455   8.557061  \n",
       "1    -0.000572 -0.000812 -0.001181   7.967915 -7.813225 -11.928781  \n",
       "2     0.001081  0.000067  0.000832   0.075141  6.000968   9.530168  \n",
       "3     0.001523  0.001325 -0.000975  -7.844172  6.632731  14.093078  \n",
       "4     0.001420  0.001000 -0.000423  -4.885995  6.370840  15.935434  \n",
       "...        ...       ...       ...        ...       ...        ...  \n",
       "3139 -0.000855 -0.000251 -0.001153   2.224717  8.549556 -10.342960  \n",
       "3140 -0.000947 -0.000035 -0.001048   4.515257  5.636350 -14.508990  \n",
       "3141 -0.001263  0.000957  0.000265  -2.678241  5.768869 -15.942137  \n",
       "3142 -0.000450 -0.000988 -0.001003   3.145697 -4.512575  -4.056016  \n",
       "3143 -0.001448  0.001659  0.001583 -11.858775  3.206707  -8.933965  \n",
       "\n",
       "[3144 rows x 70 columns]"
      ]
     },
     "execution_count": 28,
     "metadata": {},
     "output_type": "execute_result"
    }
   ],
   "source": [
    "X"
   ]
  },
  {
   "cell_type": "code",
   "execution_count": 29,
   "id": "f709f730",
   "metadata": {},
   "outputs": [],
   "source": [
    "# Select the last 9 columns [5]\n",
    "pcs = X.T.tail(9).T"
   ]
  },
  {
   "cell_type": "code",
   "execution_count": 30,
   "id": "de30fc10",
   "metadata": {},
   "outputs": [
    {
     "data": {
      "text/html": [
       "<div>\n",
       "<style scoped>\n",
       "    .dataframe tbody tr th:only-of-type {\n",
       "        vertical-align: middle;\n",
       "    }\n",
       "\n",
       "    .dataframe tbody tr th {\n",
       "        vertical-align: top;\n",
       "    }\n",
       "\n",
       "    .dataframe thead th {\n",
       "        text-align: right;\n",
       "    }\n",
       "</style>\n",
       "<table border=\"1\" class=\"dataframe\">\n",
       "  <thead>\n",
       "    <tr style=\"text-align: right;\">\n",
       "      <th></th>\n",
       "      <th>pca_pc1</th>\n",
       "      <th>pca_pc2</th>\n",
       "      <th>pca_pc3</th>\n",
       "      <th>spec_pc1</th>\n",
       "      <th>spec_pc2</th>\n",
       "      <th>spec_pc3</th>\n",
       "      <th>tsne_pc1</th>\n",
       "      <th>tsne_pc2</th>\n",
       "      <th>tsne_pc3</th>\n",
       "    </tr>\n",
       "  </thead>\n",
       "  <tbody>\n",
       "    <tr>\n",
       "      <th>0</th>\n",
       "      <td>-0.617581</td>\n",
       "      <td>0.679175</td>\n",
       "      <td>-0.616937</td>\n",
       "      <td>0.000319</td>\n",
       "      <td>-0.001135</td>\n",
       "      <td>0.000854</td>\n",
       "      <td>7.407887</td>\n",
       "      <td>2.971455</td>\n",
       "      <td>8.557061</td>\n",
       "    </tr>\n",
       "    <tr>\n",
       "      <th>1</th>\n",
       "      <td>0.989203</td>\n",
       "      <td>0.559721</td>\n",
       "      <td>-0.697775</td>\n",
       "      <td>-0.000572</td>\n",
       "      <td>-0.000812</td>\n",
       "      <td>-0.001181</td>\n",
       "      <td>7.967915</td>\n",
       "      <td>-7.813225</td>\n",
       "      <td>-11.928781</td>\n",
       "    </tr>\n",
       "    <tr>\n",
       "      <th>2</th>\n",
       "      <td>-2.269580</td>\n",
       "      <td>1.067954</td>\n",
       "      <td>-0.198612</td>\n",
       "      <td>0.001081</td>\n",
       "      <td>0.000067</td>\n",
       "      <td>0.000832</td>\n",
       "      <td>0.075141</td>\n",
       "      <td>6.000968</td>\n",
       "      <td>9.530168</td>\n",
       "    </tr>\n",
       "    <tr>\n",
       "      <th>3</th>\n",
       "      <td>-3.954990</td>\n",
       "      <td>0.703167</td>\n",
       "      <td>-0.515253</td>\n",
       "      <td>0.001523</td>\n",
       "      <td>0.001325</td>\n",
       "      <td>-0.000975</td>\n",
       "      <td>-7.844172</td>\n",
       "      <td>6.632731</td>\n",
       "      <td>14.093078</td>\n",
       "    </tr>\n",
       "    <tr>\n",
       "      <th>4</th>\n",
       "      <td>-3.363042</td>\n",
       "      <td>0.250616</td>\n",
       "      <td>-0.987891</td>\n",
       "      <td>0.001420</td>\n",
       "      <td>0.001000</td>\n",
       "      <td>-0.000423</td>\n",
       "      <td>-4.885995</td>\n",
       "      <td>6.370840</td>\n",
       "      <td>15.935434</td>\n",
       "    </tr>\n",
       "    <tr>\n",
       "      <th>...</th>\n",
       "      <td>...</td>\n",
       "      <td>...</td>\n",
       "      <td>...</td>\n",
       "      <td>...</td>\n",
       "      <td>...</td>\n",
       "      <td>...</td>\n",
       "      <td>...</td>\n",
       "      <td>...</td>\n",
       "      <td>...</td>\n",
       "    </tr>\n",
       "    <tr>\n",
       "      <th>3139</th>\n",
       "      <td>1.742262</td>\n",
       "      <td>-0.324346</td>\n",
       "      <td>0.827852</td>\n",
       "      <td>-0.000855</td>\n",
       "      <td>-0.000251</td>\n",
       "      <td>-0.001153</td>\n",
       "      <td>2.224717</td>\n",
       "      <td>8.549556</td>\n",
       "      <td>-10.342960</td>\n",
       "    </tr>\n",
       "    <tr>\n",
       "      <th>3140</th>\n",
       "      <td>1.945007</td>\n",
       "      <td>-0.577848</td>\n",
       "      <td>0.590881</td>\n",
       "      <td>-0.000947</td>\n",
       "      <td>-0.000035</td>\n",
       "      <td>-0.001048</td>\n",
       "      <td>4.515257</td>\n",
       "      <td>5.636350</td>\n",
       "      <td>-14.508990</td>\n",
       "    </tr>\n",
       "    <tr>\n",
       "      <th>3141</th>\n",
       "      <td>3.054007</td>\n",
       "      <td>-0.601615</td>\n",
       "      <td>0.578433</td>\n",
       "      <td>-0.001263</td>\n",
       "      <td>0.000957</td>\n",
       "      <td>0.000265</td>\n",
       "      <td>-2.678241</td>\n",
       "      <td>5.768869</td>\n",
       "      <td>-15.942137</td>\n",
       "    </tr>\n",
       "    <tr>\n",
       "      <th>3142</th>\n",
       "      <td>0.731736</td>\n",
       "      <td>0.018675</td>\n",
       "      <td>0.484228</td>\n",
       "      <td>-0.000450</td>\n",
       "      <td>-0.000988</td>\n",
       "      <td>-0.001003</td>\n",
       "      <td>3.145697</td>\n",
       "      <td>-4.512575</td>\n",
       "      <td>-4.056016</td>\n",
       "    </tr>\n",
       "    <tr>\n",
       "      <th>3143</th>\n",
       "      <td>5.777208</td>\n",
       "      <td>0.866766</td>\n",
       "      <td>1.290273</td>\n",
       "      <td>-0.001448</td>\n",
       "      <td>0.001659</td>\n",
       "      <td>0.001583</td>\n",
       "      <td>-11.858775</td>\n",
       "      <td>3.206707</td>\n",
       "      <td>-8.933965</td>\n",
       "    </tr>\n",
       "  </tbody>\n",
       "</table>\n",
       "<p>3144 rows × 9 columns</p>\n",
       "</div>"
      ],
      "text/plain": [
       "       pca_pc1   pca_pc2   pca_pc3  spec_pc1  spec_pc2  spec_pc3   tsne_pc1  \\\n",
       "0    -0.617581  0.679175 -0.616937  0.000319 -0.001135  0.000854   7.407887   \n",
       "1     0.989203  0.559721 -0.697775 -0.000572 -0.000812 -0.001181   7.967915   \n",
       "2    -2.269580  1.067954 -0.198612  0.001081  0.000067  0.000832   0.075141   \n",
       "3    -3.954990  0.703167 -0.515253  0.001523  0.001325 -0.000975  -7.844172   \n",
       "4    -3.363042  0.250616 -0.987891  0.001420  0.001000 -0.000423  -4.885995   \n",
       "...        ...       ...       ...       ...       ...       ...        ...   \n",
       "3139  1.742262 -0.324346  0.827852 -0.000855 -0.000251 -0.001153   2.224717   \n",
       "3140  1.945007 -0.577848  0.590881 -0.000947 -0.000035 -0.001048   4.515257   \n",
       "3141  3.054007 -0.601615  0.578433 -0.001263  0.000957  0.000265  -2.678241   \n",
       "3142  0.731736  0.018675  0.484228 -0.000450 -0.000988 -0.001003   3.145697   \n",
       "3143  5.777208  0.866766  1.290273 -0.001448  0.001659  0.001583 -11.858775   \n",
       "\n",
       "      tsne_pc2   tsne_pc3  \n",
       "0     2.971455   8.557061  \n",
       "1    -7.813225 -11.928781  \n",
       "2     6.000968   9.530168  \n",
       "3     6.632731  14.093078  \n",
       "4     6.370840  15.935434  \n",
       "...        ...        ...  \n",
       "3139  8.549556 -10.342960  \n",
       "3140  5.636350 -14.508990  \n",
       "3141  5.768869 -15.942137  \n",
       "3142 -4.512575  -4.056016  \n",
       "3143  3.206707  -8.933965  \n",
       "\n",
       "[3144 rows x 9 columns]"
      ]
     },
     "execution_count": 30,
     "metadata": {},
     "output_type": "execute_result"
    }
   ],
   "source": [
    "pcs"
   ]
  },
  {
   "cell_type": "code",
   "execution_count": 31,
   "id": "6529377c",
   "metadata": {},
   "outputs": [],
   "source": [
    "X_removed = X.iloc[: , :-9]"
   ]
  },
  {
   "cell_type": "code",
   "execution_count": 32,
   "id": "fc08e392",
   "metadata": {},
   "outputs": [
    {
     "data": {
      "text/html": [
       "<div>\n",
       "<style scoped>\n",
       "    .dataframe tbody tr th:only-of-type {\n",
       "        vertical-align: middle;\n",
       "    }\n",
       "\n",
       "    .dataframe tbody tr th {\n",
       "        vertical-align: top;\n",
       "    }\n",
       "\n",
       "    .dataframe thead th {\n",
       "        text-align: right;\n",
       "    }\n",
       "</style>\n",
       "<table border=\"1\" class=\"dataframe\">\n",
       "  <thead>\n",
       "    <tr style=\"text-align: right;\">\n",
       "      <th></th>\n",
       "      <th>fips</th>\n",
       "      <th>state</th>\n",
       "      <th>county</th>\n",
       "      <th>percent_fair_or_poor_health</th>\n",
       "      <th>average_number_of_mentally_unhealthy_days</th>\n",
       "      <th>percent_smokers</th>\n",
       "      <th>percent_adults_with_obesity</th>\n",
       "      <th>food_environment_index</th>\n",
       "      <th>percent_excessive_drinking</th>\n",
       "      <th>num_driving_deaths</th>\n",
       "      <th>...</th>\n",
       "      <th>num_minorities</th>\n",
       "      <th>num_institutionalized_in_group_quarters</th>\n",
       "      <th>percentile_rank_age_65_and_older</th>\n",
       "      <th>percentile_rank_age_17_and_younger</th>\n",
       "      <th>percentile_rank_minorities</th>\n",
       "      <th>percentile_rank_multi_unit_housing</th>\n",
       "      <th>percentile_rank_mobile_homes</th>\n",
       "      <th>percentile_rank_institutionalized_in_group_quarters</th>\n",
       "      <th>percentile_rank_housing_and_transportation</th>\n",
       "      <th>percentile_rank_social_vulnerability</th>\n",
       "    </tr>\n",
       "  </thead>\n",
       "  <tbody>\n",
       "    <tr>\n",
       "      <th>0</th>\n",
       "      <td>0.000000</td>\n",
       "      <td>0.00</td>\n",
       "      <td>0.000000</td>\n",
       "      <td>0.388267</td>\n",
       "      <td>0.561029</td>\n",
       "      <td>0.342101</td>\n",
       "      <td>0.461369</td>\n",
       "      <td>0.720000</td>\n",
       "      <td>0.346707</td>\n",
       "      <td>0.015506</td>\n",
       "      <td>...</td>\n",
       "      <td>0.001816</td>\n",
       "      <td>0.002771</td>\n",
       "      <td>0.196400</td>\n",
       "      <td>0.831300</td>\n",
       "      <td>0.633900</td>\n",
       "      <td>0.679100</td>\n",
       "      <td>0.726800</td>\n",
       "      <td>0.125100</td>\n",
       "      <td>0.288100</td>\n",
       "      <td>0.377300</td>\n",
       "    </tr>\n",
       "    <tr>\n",
       "      <th>1</th>\n",
       "      <td>0.000036</td>\n",
       "      <td>0.00</td>\n",
       "      <td>0.000318</td>\n",
       "      <td>0.285624</td>\n",
       "      <td>0.468466</td>\n",
       "      <td>0.325449</td>\n",
       "      <td>0.410596</td>\n",
       "      <td>0.800000</td>\n",
       "      <td>0.487587</td>\n",
       "      <td>0.043699</td>\n",
       "      <td>...</td>\n",
       "      <td>0.004554</td>\n",
       "      <td>0.016464</td>\n",
       "      <td>0.643700</td>\n",
       "      <td>0.447600</td>\n",
       "      <td>0.525300</td>\n",
       "      <td>0.973300</td>\n",
       "      <td>0.538700</td>\n",
       "      <td>0.343800</td>\n",
       "      <td>0.332400</td>\n",
       "      <td>0.275700</td>\n",
       "    </tr>\n",
       "    <tr>\n",
       "      <th>2</th>\n",
       "      <td>0.000073</td>\n",
       "      <td>0.00</td>\n",
       "      <td>0.000636</td>\n",
       "      <td>0.653214</td>\n",
       "      <td>0.701619</td>\n",
       "      <td>0.452223</td>\n",
       "      <td>0.646799</td>\n",
       "      <td>0.560000</td>\n",
       "      <td>0.241874</td>\n",
       "      <td>0.008176</td>\n",
       "      <td>...</td>\n",
       "      <td>0.001954</td>\n",
       "      <td>0.016583</td>\n",
       "      <td>0.417400</td>\n",
       "      <td>0.361700</td>\n",
       "      <td>0.904200</td>\n",
       "      <td>0.281400</td>\n",
       "      <td>0.937000</td>\n",
       "      <td>0.942700</td>\n",
       "      <td>0.931200</td>\n",
       "      <td>0.984700</td>\n",
       "    </tr>\n",
       "    <tr>\n",
       "      <th>3</th>\n",
       "      <td>0.000109</td>\n",
       "      <td>0.00</td>\n",
       "      <td>0.000955</td>\n",
       "      <td>0.344359</td>\n",
       "      <td>0.533963</td>\n",
       "      <td>0.371122</td>\n",
       "      <td>0.556291</td>\n",
       "      <td>0.780000</td>\n",
       "      <td>0.372844</td>\n",
       "      <td>0.007894</td>\n",
       "      <td>...</td>\n",
       "      <td>0.000773</td>\n",
       "      <td>0.011317</td>\n",
       "      <td>0.258500</td>\n",
       "      <td>0.308800</td>\n",
       "      <td>0.645000</td>\n",
       "      <td>0.407200</td>\n",
       "      <td>0.924900</td>\n",
       "      <td>0.915600</td>\n",
       "      <td>0.666300</td>\n",
       "      <td>0.573700</td>\n",
       "    </tr>\n",
       "    <tr>\n",
       "      <th>4</th>\n",
       "      <td>0.000145</td>\n",
       "      <td>0.00</td>\n",
       "      <td>0.001273</td>\n",
       "      <td>0.414500</td>\n",
       "      <td>0.623824</td>\n",
       "      <td>0.373777</td>\n",
       "      <td>0.472406</td>\n",
       "      <td>0.840000</td>\n",
       "      <td>0.308491</td>\n",
       "      <td>0.020017</td>\n",
       "      <td>...</td>\n",
       "      <td>0.000966</td>\n",
       "      <td>0.003122</td>\n",
       "      <td>0.490900</td>\n",
       "      <td>0.646600</td>\n",
       "      <td>0.423800</td>\n",
       "      <td>0.134400</td>\n",
       "      <td>0.846500</td>\n",
       "      <td>0.151500</td>\n",
       "      <td>0.182700</td>\n",
       "      <td>0.498600</td>\n",
       "    </tr>\n",
       "    <tr>\n",
       "      <th>...</th>\n",
       "      <td>...</td>\n",
       "      <td>...</td>\n",
       "      <td>...</td>\n",
       "      <td>...</td>\n",
       "      <td>...</td>\n",
       "      <td>...</td>\n",
       "      <td>...</td>\n",
       "      <td>...</td>\n",
       "      <td>...</td>\n",
       "      <td>...</td>\n",
       "      <td>...</td>\n",
       "      <td>...</td>\n",
       "      <td>...</td>\n",
       "      <td>...</td>\n",
       "      <td>...</td>\n",
       "      <td>...</td>\n",
       "      <td>...</td>\n",
       "      <td>...</td>\n",
       "      <td>...</td>\n",
       "      <td>...</td>\n",
       "      <td>...</td>\n",
       "    </tr>\n",
       "    <tr>\n",
       "      <th>3139</th>\n",
       "      <td>0.999927</td>\n",
       "      <td>1.00</td>\n",
       "      <td>0.998727</td>\n",
       "      <td>0.225641</td>\n",
       "      <td>0.300716</td>\n",
       "      <td>0.317682</td>\n",
       "      <td>0.516556</td>\n",
       "      <td>0.740000</td>\n",
       "      <td>0.543080</td>\n",
       "      <td>0.005357</td>\n",
       "      <td>...</td>\n",
       "      <td>0.000348</td>\n",
       "      <td>0.001380</td>\n",
       "      <td>0.044600</td>\n",
       "      <td>0.966900</td>\n",
       "      <td>0.421200</td>\n",
       "      <td>0.770500</td>\n",
       "      <td>0.875800</td>\n",
       "      <td>0.215900</td>\n",
       "      <td>0.656200</td>\n",
       "      <td>0.535200</td>\n",
       "    </tr>\n",
       "    <tr>\n",
       "      <th>3140</th>\n",
       "      <td>0.999964</td>\n",
       "      <td>1.00</td>\n",
       "      <td>0.999045</td>\n",
       "      <td>0.238373</td>\n",
       "      <td>0.304077</td>\n",
       "      <td>0.307754</td>\n",
       "      <td>0.362031</td>\n",
       "      <td>0.830000</td>\n",
       "      <td>0.418641</td>\n",
       "      <td>0.001128</td>\n",
       "      <td>...</td>\n",
       "      <td>0.000199</td>\n",
       "      <td>0.000995</td>\n",
       "      <td>0.730000</td>\n",
       "      <td>0.800700</td>\n",
       "      <td>0.536100</td>\n",
       "      <td>0.346400</td>\n",
       "      <td>0.511600</td>\n",
       "      <td>0.537400</td>\n",
       "      <td>0.514200</td>\n",
       "      <td>0.592800</td>\n",
       "    </tr>\n",
       "    <tr>\n",
       "      <th>3141</th>\n",
       "      <td>1.000000</td>\n",
       "      <td>1.00</td>\n",
       "      <td>0.999364</td>\n",
       "      <td>0.176860</td>\n",
       "      <td>0.298239</td>\n",
       "      <td>0.303081</td>\n",
       "      <td>0.461369</td>\n",
       "      <td>0.790000</td>\n",
       "      <td>0.474434</td>\n",
       "      <td>0.002537</td>\n",
       "      <td>...</td>\n",
       "      <td>0.000076</td>\n",
       "      <td>0.002013</td>\n",
       "      <td>0.615100</td>\n",
       "      <td>0.307500</td>\n",
       "      <td>0.288800</td>\n",
       "      <td>0.552100</td>\n",
       "      <td>0.861800</td>\n",
       "      <td>0.807700</td>\n",
       "      <td>0.633900</td>\n",
       "      <td>0.271600</td>\n",
       "    </tr>\n",
       "    <tr>\n",
       "      <th>3142</th>\n",
       "      <td>0.672171</td>\n",
       "      <td>0.50</td>\n",
       "      <td>0.999682</td>\n",
       "      <td>0.251945</td>\n",
       "      <td>0.439812</td>\n",
       "      <td>0.359885</td>\n",
       "      <td>0.445514</td>\n",
       "      <td>0.738523</td>\n",
       "      <td>0.626147</td>\n",
       "      <td>0.184663</td>\n",
       "      <td>...</td>\n",
       "      <td>0.043998</td>\n",
       "      <td>0.091127</td>\n",
       "      <td>0.166922</td>\n",
       "      <td>0.744178</td>\n",
       "      <td>0.675575</td>\n",
       "      <td>0.879288</td>\n",
       "      <td>0.055045</td>\n",
       "      <td>0.329812</td>\n",
       "      <td>0.384675</td>\n",
       "      <td>0.392899</td>\n",
       "    </tr>\n",
       "    <tr>\n",
       "      <th>3143</th>\n",
       "      <td>0.636945</td>\n",
       "      <td>0.64</td>\n",
       "      <td>1.000000</td>\n",
       "      <td>0.284821</td>\n",
       "      <td>0.340679</td>\n",
       "      <td>0.210347</td>\n",
       "      <td>0.201248</td>\n",
       "      <td>0.835690</td>\n",
       "      <td>0.570218</td>\n",
       "      <td>0.316324</td>\n",
       "      <td>...</td>\n",
       "      <td>0.777813</td>\n",
       "      <td>1.000000</td>\n",
       "      <td>0.144087</td>\n",
       "      <td>0.431132</td>\n",
       "      <td>0.945408</td>\n",
       "      <td>0.992835</td>\n",
       "      <td>0.004499</td>\n",
       "      <td>0.450722</td>\n",
       "      <td>0.903038</td>\n",
       "      <td>0.724114</td>\n",
       "    </tr>\n",
       "  </tbody>\n",
       "</table>\n",
       "<p>3144 rows × 61 columns</p>\n",
       "</div>"
      ],
      "text/plain": [
       "          fips  state    county  percent_fair_or_poor_health  \\\n",
       "0     0.000000   0.00  0.000000                     0.388267   \n",
       "1     0.000036   0.00  0.000318                     0.285624   \n",
       "2     0.000073   0.00  0.000636                     0.653214   \n",
       "3     0.000109   0.00  0.000955                     0.344359   \n",
       "4     0.000145   0.00  0.001273                     0.414500   \n",
       "...        ...    ...       ...                          ...   \n",
       "3139  0.999927   1.00  0.998727                     0.225641   \n",
       "3140  0.999964   1.00  0.999045                     0.238373   \n",
       "3141  1.000000   1.00  0.999364                     0.176860   \n",
       "3142  0.672171   0.50  0.999682                     0.251945   \n",
       "3143  0.636945   0.64  1.000000                     0.284821   \n",
       "\n",
       "      average_number_of_mentally_unhealthy_days  percent_smokers  \\\n",
       "0                                      0.561029         0.342101   \n",
       "1                                      0.468466         0.325449   \n",
       "2                                      0.701619         0.452223   \n",
       "3                                      0.533963         0.371122   \n",
       "4                                      0.623824         0.373777   \n",
       "...                                         ...              ...   \n",
       "3139                                   0.300716         0.317682   \n",
       "3140                                   0.304077         0.307754   \n",
       "3141                                   0.298239         0.303081   \n",
       "3142                                   0.439812         0.359885   \n",
       "3143                                   0.340679         0.210347   \n",
       "\n",
       "      percent_adults_with_obesity  food_environment_index  \\\n",
       "0                        0.461369                0.720000   \n",
       "1                        0.410596                0.800000   \n",
       "2                        0.646799                0.560000   \n",
       "3                        0.556291                0.780000   \n",
       "4                        0.472406                0.840000   \n",
       "...                           ...                     ...   \n",
       "3139                     0.516556                0.740000   \n",
       "3140                     0.362031                0.830000   \n",
       "3141                     0.461369                0.790000   \n",
       "3142                     0.445514                0.738523   \n",
       "3143                     0.201248                0.835690   \n",
       "\n",
       "      percent_excessive_drinking  num_driving_deaths  ...  num_minorities  \\\n",
       "0                       0.346707            0.015506  ...        0.001816   \n",
       "1                       0.487587            0.043699  ...        0.004554   \n",
       "2                       0.241874            0.008176  ...        0.001954   \n",
       "3                       0.372844            0.007894  ...        0.000773   \n",
       "4                       0.308491            0.020017  ...        0.000966   \n",
       "...                          ...                 ...  ...             ...   \n",
       "3139                    0.543080            0.005357  ...        0.000348   \n",
       "3140                    0.418641            0.001128  ...        0.000199   \n",
       "3141                    0.474434            0.002537  ...        0.000076   \n",
       "3142                    0.626147            0.184663  ...        0.043998   \n",
       "3143                    0.570218            0.316324  ...        0.777813   \n",
       "\n",
       "      num_institutionalized_in_group_quarters  \\\n",
       "0                                    0.002771   \n",
       "1                                    0.016464   \n",
       "2                                    0.016583   \n",
       "3                                    0.011317   \n",
       "4                                    0.003122   \n",
       "...                                       ...   \n",
       "3139                                 0.001380   \n",
       "3140                                 0.000995   \n",
       "3141                                 0.002013   \n",
       "3142                                 0.091127   \n",
       "3143                                 1.000000   \n",
       "\n",
       "      percentile_rank_age_65_and_older  percentile_rank_age_17_and_younger  \\\n",
       "0                             0.196400                            0.831300   \n",
       "1                             0.643700                            0.447600   \n",
       "2                             0.417400                            0.361700   \n",
       "3                             0.258500                            0.308800   \n",
       "4                             0.490900                            0.646600   \n",
       "...                                ...                                 ...   \n",
       "3139                          0.044600                            0.966900   \n",
       "3140                          0.730000                            0.800700   \n",
       "3141                          0.615100                            0.307500   \n",
       "3142                          0.166922                            0.744178   \n",
       "3143                          0.144087                            0.431132   \n",
       "\n",
       "      percentile_rank_minorities  percentile_rank_multi_unit_housing  \\\n",
       "0                       0.633900                            0.679100   \n",
       "1                       0.525300                            0.973300   \n",
       "2                       0.904200                            0.281400   \n",
       "3                       0.645000                            0.407200   \n",
       "4                       0.423800                            0.134400   \n",
       "...                          ...                                 ...   \n",
       "3139                    0.421200                            0.770500   \n",
       "3140                    0.536100                            0.346400   \n",
       "3141                    0.288800                            0.552100   \n",
       "3142                    0.675575                            0.879288   \n",
       "3143                    0.945408                            0.992835   \n",
       "\n",
       "      percentile_rank_mobile_homes  \\\n",
       "0                         0.726800   \n",
       "1                         0.538700   \n",
       "2                         0.937000   \n",
       "3                         0.924900   \n",
       "4                         0.846500   \n",
       "...                            ...   \n",
       "3139                      0.875800   \n",
       "3140                      0.511600   \n",
       "3141                      0.861800   \n",
       "3142                      0.055045   \n",
       "3143                      0.004499   \n",
       "\n",
       "      percentile_rank_institutionalized_in_group_quarters  \\\n",
       "0                                              0.125100     \n",
       "1                                              0.343800     \n",
       "2                                              0.942700     \n",
       "3                                              0.915600     \n",
       "4                                              0.151500     \n",
       "...                                                 ...     \n",
       "3139                                           0.215900     \n",
       "3140                                           0.537400     \n",
       "3141                                           0.807700     \n",
       "3142                                           0.329812     \n",
       "3143                                           0.450722     \n",
       "\n",
       "      percentile_rank_housing_and_transportation  \\\n",
       "0                                       0.288100   \n",
       "1                                       0.332400   \n",
       "2                                       0.931200   \n",
       "3                                       0.666300   \n",
       "4                                       0.182700   \n",
       "...                                          ...   \n",
       "3139                                    0.656200   \n",
       "3140                                    0.514200   \n",
       "3141                                    0.633900   \n",
       "3142                                    0.384675   \n",
       "3143                                    0.903038   \n",
       "\n",
       "      percentile_rank_social_vulnerability  \n",
       "0                                 0.377300  \n",
       "1                                 0.275700  \n",
       "2                                 0.984700  \n",
       "3                                 0.573700  \n",
       "4                                 0.498600  \n",
       "...                                    ...  \n",
       "3139                              0.535200  \n",
       "3140                              0.592800  \n",
       "3141                              0.271600  \n",
       "3142                              0.392899  \n",
       "3143                              0.724114  \n",
       "\n",
       "[3144 rows x 61 columns]"
      ]
     },
     "execution_count": 32,
     "metadata": {},
     "output_type": "execute_result"
    }
   ],
   "source": [
    "X_removed"
   ]
  },
  {
   "cell_type": "markdown",
   "id": "baf7543d",
   "metadata": {},
   "source": [
    "## Now, repeat without the principal components "
   ]
  },
  {
   "cell_type": "markdown",
   "id": "9f04f54e",
   "metadata": {},
   "source": [
    "## Train-test split again"
   ]
  },
  {
   "cell_type": "code",
   "execution_count": 33,
   "id": "aab17b60",
   "metadata": {},
   "outputs": [],
   "source": [
    "X_train, X_test, y_train, y_test = train_test_split(X_removed, y, test_size=0.3, random_state=465)"
   ]
  },
  {
   "cell_type": "code",
   "execution_count": 34,
   "id": "b8a7477d",
   "metadata": {},
   "outputs": [
    {
     "name": "stderr",
     "output_type": "stream",
     "text": [
      "/Users/nesli/opt/anaconda3/lib/python3.8/site-packages/sklearn/neural_network/_multilayer_perceptron.py:1599: DataConversionWarning: A column-vector y was passed when a 1d array was expected. Please change the shape of y to (n_samples, ), for example using ravel().\n",
      "  y = column_or_1d(y, warn=True)\n",
      "/Users/nesli/opt/anaconda3/lib/python3.8/site-packages/sklearn/neural_network/_multilayer_perceptron.py:692: ConvergenceWarning: Stochastic Optimizer: Maximum iterations (500) reached and the optimization hasn't converged yet.\n",
      "  warnings.warn(\n",
      "/Users/nesli/opt/anaconda3/lib/python3.8/site-packages/sklearn/neural_network/_multilayer_perceptron.py:1599: DataConversionWarning: A column-vector y was passed when a 1d array was expected. Please change the shape of y to (n_samples, ), for example using ravel().\n",
      "  y = column_or_1d(y, warn=True)\n"
     ]
    },
    {
     "name": "stdout",
     "output_type": "stream",
     "text": [
      "n=1\n",
      "Train MSE=660.1776800652196\n",
      "Train RMSE=25.69392301820062\n",
      "Test MSE=661.3522639303961\n",
      "Test RMSE=25.71677009133138\n"
     ]
    },
    {
     "name": "stderr",
     "output_type": "stream",
     "text": [
      "/Users/nesli/opt/anaconda3/lib/python3.8/site-packages/sklearn/neural_network/_multilayer_perceptron.py:692: ConvergenceWarning: Stochastic Optimizer: Maximum iterations (500) reached and the optimization hasn't converged yet.\n",
      "  warnings.warn(\n",
      "/Users/nesli/opt/anaconda3/lib/python3.8/site-packages/sklearn/neural_network/_multilayer_perceptron.py:1599: DataConversionWarning: A column-vector y was passed when a 1d array was expected. Please change the shape of y to (n_samples, ), for example using ravel().\n",
      "  y = column_or_1d(y, warn=True)\n"
     ]
    },
    {
     "name": "stdout",
     "output_type": "stream",
     "text": [
      "n=2\n",
      "Train MSE=5010.940707514254\n",
      "Train RMSE=70.7879983296198\n",
      "Test MSE=5014.155474491387\n",
      "Test RMSE=70.81070169466892\n"
     ]
    },
    {
     "name": "stderr",
     "output_type": "stream",
     "text": [
      "/Users/nesli/opt/anaconda3/lib/python3.8/site-packages/sklearn/neural_network/_multilayer_perceptron.py:692: ConvergenceWarning: Stochastic Optimizer: Maximum iterations (500) reached and the optimization hasn't converged yet.\n",
      "  warnings.warn(\n",
      "/Users/nesli/opt/anaconda3/lib/python3.8/site-packages/sklearn/neural_network/_multilayer_perceptron.py:1599: DataConversionWarning: A column-vector y was passed when a 1d array was expected. Please change the shape of y to (n_samples, ), for example using ravel().\n",
      "  y = column_or_1d(y, warn=True)\n"
     ]
    },
    {
     "name": "stdout",
     "output_type": "stream",
     "text": [
      "n=3\n",
      "Train MSE=5228.583159350191\n",
      "Train RMSE=72.30894245769461\n",
      "Test MSE=5231.866626896231\n",
      "Test RMSE=72.33164333053847\n"
     ]
    },
    {
     "name": "stderr",
     "output_type": "stream",
     "text": [
      "/Users/nesli/opt/anaconda3/lib/python3.8/site-packages/sklearn/neural_network/_multilayer_perceptron.py:692: ConvergenceWarning: Stochastic Optimizer: Maximum iterations (500) reached and the optimization hasn't converged yet.\n",
      "  warnings.warn(\n",
      "/Users/nesli/opt/anaconda3/lib/python3.8/site-packages/sklearn/neural_network/_multilayer_perceptron.py:1599: DataConversionWarning: A column-vector y was passed when a 1d array was expected. Please change the shape of y to (n_samples, ), for example using ravel().\n",
      "  y = column_or_1d(y, warn=True)\n"
     ]
    },
    {
     "name": "stdout",
     "output_type": "stream",
     "text": [
      "n=4\n",
      "Train MSE=2.9582896807897185\n",
      "Train RMSE=1.7199679301631523\n",
      "Test MSE=4.108462949610332\n",
      "Test RMSE=2.0269343722997872\n"
     ]
    },
    {
     "name": "stderr",
     "output_type": "stream",
     "text": [
      "/Users/nesli/opt/anaconda3/lib/python3.8/site-packages/sklearn/neural_network/_multilayer_perceptron.py:692: ConvergenceWarning: Stochastic Optimizer: Maximum iterations (500) reached and the optimization hasn't converged yet.\n",
      "  warnings.warn(\n",
      "/Users/nesli/opt/anaconda3/lib/python3.8/site-packages/sklearn/neural_network/_multilayer_perceptron.py:1599: DataConversionWarning: A column-vector y was passed when a 1d array was expected. Please change the shape of y to (n_samples, ), for example using ravel().\n",
      "  y = column_or_1d(y, warn=True)\n"
     ]
    },
    {
     "name": "stdout",
     "output_type": "stream",
     "text": [
      "n=5\n",
      "Train MSE=6.895249376693083\n",
      "Train RMSE=2.625880685921027\n",
      "Test MSE=8.308484976747998\n",
      "Test RMSE=2.8824442712302347\n"
     ]
    },
    {
     "name": "stderr",
     "output_type": "stream",
     "text": [
      "/Users/nesli/opt/anaconda3/lib/python3.8/site-packages/sklearn/neural_network/_multilayer_perceptron.py:692: ConvergenceWarning: Stochastic Optimizer: Maximum iterations (500) reached and the optimization hasn't converged yet.\n",
      "  warnings.warn(\n",
      "/Users/nesli/opt/anaconda3/lib/python3.8/site-packages/sklearn/neural_network/_multilayer_perceptron.py:1599: DataConversionWarning: A column-vector y was passed when a 1d array was expected. Please change the shape of y to (n_samples, ), for example using ravel().\n",
      "  y = column_or_1d(y, warn=True)\n"
     ]
    },
    {
     "name": "stdout",
     "output_type": "stream",
     "text": [
      "n=6\n",
      "Train MSE=5271.335558757967\n",
      "Train RMSE=72.60396379508468\n",
      "Test MSE=5274.632352029142\n",
      "Test RMSE=72.62666419455833\n"
     ]
    },
    {
     "name": "stderr",
     "output_type": "stream",
     "text": [
      "/Users/nesli/opt/anaconda3/lib/python3.8/site-packages/sklearn/neural_network/_multilayer_perceptron.py:692: ConvergenceWarning: Stochastic Optimizer: Maximum iterations (500) reached and the optimization hasn't converged yet.\n",
      "  warnings.warn(\n",
      "/Users/nesli/opt/anaconda3/lib/python3.8/site-packages/sklearn/neural_network/_multilayer_perceptron.py:1599: DataConversionWarning: A column-vector y was passed when a 1d array was expected. Please change the shape of y to (n_samples, ), for example using ravel().\n",
      "  y = column_or_1d(y, warn=True)\n"
     ]
    },
    {
     "name": "stdout",
     "output_type": "stream",
     "text": [
      "n=7\n",
      "Train MSE=5431.477807520164\n",
      "Train RMSE=73.69856041687764\n",
      "Test MSE=5434.824041471307\n",
      "Test RMSE=73.7212590876696\n"
     ]
    },
    {
     "name": "stderr",
     "output_type": "stream",
     "text": [
      "/Users/nesli/opt/anaconda3/lib/python3.8/site-packages/sklearn/neural_network/_multilayer_perceptron.py:692: ConvergenceWarning: Stochastic Optimizer: Maximum iterations (500) reached and the optimization hasn't converged yet.\n",
      "  warnings.warn(\n",
      "/Users/nesli/opt/anaconda3/lib/python3.8/site-packages/sklearn/neural_network/_multilayer_perceptron.py:1599: DataConversionWarning: A column-vector y was passed when a 1d array was expected. Please change the shape of y to (n_samples, ), for example using ravel().\n",
      "  y = column_or_1d(y, warn=True)\n"
     ]
    },
    {
     "name": "stdout",
     "output_type": "stream",
     "text": [
      "n=8\n",
      "Train MSE=5082.377315547863\n",
      "Train RMSE=71.29079404486853\n",
      "Test MSE=5085.614793937781\n",
      "Test RMSE=71.3134965762988\n"
     ]
    },
    {
     "name": "stderr",
     "output_type": "stream",
     "text": [
      "/Users/nesli/opt/anaconda3/lib/python3.8/site-packages/sklearn/neural_network/_multilayer_perceptron.py:692: ConvergenceWarning: Stochastic Optimizer: Maximum iterations (500) reached and the optimization hasn't converged yet.\n",
      "  warnings.warn(\n",
      "/Users/nesli/opt/anaconda3/lib/python3.8/site-packages/sklearn/neural_network/_multilayer_perceptron.py:1599: DataConversionWarning: A column-vector y was passed when a 1d array was expected. Please change the shape of y to (n_samples, ), for example using ravel().\n",
      "  y = column_or_1d(y, warn=True)\n"
     ]
    },
    {
     "name": "stdout",
     "output_type": "stream",
     "text": [
      "n=9\n",
      "Train MSE=5335.4742467914675\n",
      "Train RMSE=73.04433069575946\n",
      "Test MSE=5338.790930681953\n",
      "Test RMSE=73.0670303945764\n",
      "n=10\n",
      "Train MSE=5.636209513929959\n",
      "Train RMSE=2.374070241995792\n",
      "Test MSE=6.888323874573391\n",
      "Test RMSE=2.624561653795428\n"
     ]
    },
    {
     "name": "stderr",
     "output_type": "stream",
     "text": [
      "/Users/nesli/opt/anaconda3/lib/python3.8/site-packages/sklearn/neural_network/_multilayer_perceptron.py:692: ConvergenceWarning: Stochastic Optimizer: Maximum iterations (500) reached and the optimization hasn't converged yet.\n",
      "  warnings.warn(\n"
     ]
    }
   ],
   "source": [
    "for n in n_list:\n",
    "    mlp = MLPRegressor(hidden_layer_sizes=(n_inputs,n,n_outputs), activation='relu', solver='adam', max_iter=500)\n",
    "    mlp.fit(X_train,y_train)\n",
    "\n",
    "    predict_train = mlp.predict(X_train)\n",
    "    predict_test = mlp.predict(X_test)\n",
    "    \n",
    "    print(\"n=\"+str(n))\n",
    "    # For train\n",
    "    mse = mean_squared_error(y_train, predict_train)\n",
    "    print(\"Train MSE=\"+str(mse))\n",
    "    print(\"Train RMSE=\"+str(np.sqrt(mse)))\n",
    "    \n",
    "    # For test\n",
    "    mse = mean_squared_error(y_test, predict_test)\n",
    "    print(\"Test MSE=\"+str(mse))\n",
    "    print(\"Test RMSE=\"+str(np.sqrt(mse)))"
   ]
  },
  {
   "cell_type": "markdown",
   "id": "cbaf3835",
   "metadata": {},
   "source": [
    "Choose $n=4$."
   ]
  },
  {
   "cell_type": "code",
   "execution_count": 35,
   "id": "6543190e",
   "metadata": {},
   "outputs": [
    {
     "name": "stderr",
     "output_type": "stream",
     "text": [
      "/Users/nesli/opt/anaconda3/lib/python3.8/site-packages/sklearn/neural_network/_multilayer_perceptron.py:1599: DataConversionWarning: A column-vector y was passed when a 1d array was expected. Please change the shape of y to (n_samples, ), for example using ravel().\n",
      "  y = column_or_1d(y, warn=True)\n"
     ]
    },
    {
     "name": "stdout",
     "output_type": "stream",
     "text": [
      "n=10\n",
      "Train MSE=5051.584106899301\n",
      "Train RMSE=71.07449688108457\n",
      "Test MSE=5054.811815125751\n",
      "Test RMSE=71.09719976993293\n"
     ]
    },
    {
     "name": "stderr",
     "output_type": "stream",
     "text": [
      "/Users/nesli/opt/anaconda3/lib/python3.8/site-packages/sklearn/neural_network/_multilayer_perceptron.py:692: ConvergenceWarning: Stochastic Optimizer: Maximum iterations (500) reached and the optimization hasn't converged yet.\n",
      "  warnings.warn(\n"
     ]
    }
   ],
   "source": [
    "mlp = MLPRegressor(hidden_layer_sizes=(n_inputs,4,n_outputs), activation='relu', solver='adam', max_iter=500)\n",
    "mlp.fit(X_train,y_train)\n",
    "\n",
    "predict_train = mlp.predict(X_train)\n",
    "predict_test = mlp.predict(X_test)\n",
    "\n",
    "print(\"n=\"+str(n))\n",
    "# For train\n",
    "mse = mean_squared_error(y_train, predict_train)\n",
    "print(\"Train MSE=\"+str(mse))\n",
    "print(\"Train RMSE=\"+str(np.sqrt(mse)))\n",
    "    \n",
    "# For test\n",
    "mse = mean_squared_error(y_test, predict_test)\n",
    "print(\"Test MSE=\"+str(mse))\n",
    "print(\"Test RMSE=\"+str(np.sqrt(mse)))"
   ]
  },
  {
   "cell_type": "code",
   "execution_count": null,
   "id": "85fdb6ee",
   "metadata": {},
   "outputs": [],
   "source": []
  },
  {
   "cell_type": "code",
   "execution_count": null,
   "id": "4c4d345a",
   "metadata": {},
   "outputs": [],
   "source": []
  },
  {
   "cell_type": "code",
   "execution_count": null,
   "id": "9a957d80",
   "metadata": {},
   "outputs": [],
   "source": []
  },
  {
   "cell_type": "code",
   "execution_count": null,
   "id": "3c070497",
   "metadata": {},
   "outputs": [],
   "source": []
  },
  {
   "cell_type": "code",
   "execution_count": null,
   "id": "937cf762",
   "metadata": {},
   "outputs": [],
   "source": []
  },
  {
   "cell_type": "code",
   "execution_count": null,
   "id": "47506abb",
   "metadata": {},
   "outputs": [],
   "source": []
  },
  {
   "cell_type": "code",
   "execution_count": null,
   "id": "5c94e6a9",
   "metadata": {},
   "outputs": [],
   "source": []
  },
  {
   "cell_type": "code",
   "execution_count": null,
   "id": "16d7aa0a",
   "metadata": {},
   "outputs": [],
   "source": []
  },
  {
   "cell_type": "code",
   "execution_count": null,
   "id": "3754eea2",
   "metadata": {},
   "outputs": [],
   "source": []
  },
  {
   "cell_type": "markdown",
   "id": "12aa5498",
   "metadata": {},
   "source": [
    "## References\n",
    "\n",
    "[1] https://blog.finxter.com/tutorial-how-to-create-your-first-neural-network-in-1-line-of-python-code/\n",
    "\n",
    "[2] Caliskan, Cantay. DSCC 465: Introduction to Statistical Machine Learning, Spring 2022, University of Rochester, Rochester NY.\n",
    "\n"
   ]
  },
  {
   "cell_type": "code",
   "execution_count": null,
   "id": "7024dfef",
   "metadata": {},
   "outputs": [],
   "source": []
  }
 ],
 "metadata": {
  "kernelspec": {
   "display_name": "Python 3 (ipykernel)",
   "language": "python",
   "name": "python3"
  },
  "language_info": {
   "codemirror_mode": {
    "name": "ipython",
    "version": 3
   },
   "file_extension": ".py",
   "mimetype": "text/x-python",
   "name": "python",
   "nbconvert_exporter": "python",
   "pygments_lexer": "ipython3",
   "version": "3.8.13"
  }
 },
 "nbformat": 4,
 "nbformat_minor": 5
}
