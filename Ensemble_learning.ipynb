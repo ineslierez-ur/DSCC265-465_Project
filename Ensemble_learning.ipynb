{
 "cells": [
  {
   "cell_type": "code",
   "execution_count": 1,
   "id": "c2a18cf0",
   "metadata": {},
   "outputs": [],
   "source": [
    "#Importing necessary packages\n",
    "\n",
    "import os\n",
    "import numpy as np\n",
    "import sklearn\n",
    "import pandas as pd\n",
    "import random\n",
    "\n",
    "#For plotting\n",
    "%matplotlib inline\n",
    "import matplotlib as mpl\n",
    "import matplotlib.pyplot as plt\n",
    "\n",
    "from sklearn import preprocessing\n",
    "from sklearn.decomposition import PCA\n",
    "from sklearn.manifold import SpectralEmbedding\n",
    "from sklearn.manifold import TSNE\n",
    "\n",
    "from sklearn.linear_model import ElasticNet,ElasticNetCV \n",
    "from sklearn.model_selection import cross_val_score\n",
    "from sklearn.model_selection import train_test_split\n",
    "from sklearn.model_selection import RepeatedKFold\n",
    "from sklearn.metrics import mean_squared_error,r2_score\n",
    "\n",
    "from sklearn.neighbors import KNeighborsRegressor\n",
    "import seaborn as sns\n",
    "\n",
    "from scipy import interpolate\n",
    "from scipy.spatial import ConvexHull\n",
    "import matplotlib.pyplot as plt\n",
    "import matplotlib as mpl\n",
    "import seaborn as sns\n",
    "\n",
    "path = '/Users/nesli/Desktop/SPRING2022/DSCC465/Project/'\n",
    "os.chdir(path)\n",
    "\n",
    "random.seed(265) #seed"
   ]
  },
  {
   "cell_type": "markdown",
   "id": "2057cf75",
   "metadata": {},
   "source": [
    "## Read test data"
   ]
  },
  {
   "cell_type": "code",
   "execution_count": 2,
   "id": "413816a5",
   "metadata": {},
   "outputs": [],
   "source": [
    "y_test=pd.read_csv('y_test.csv')"
   ]
  },
  {
   "cell_type": "code",
   "execution_count": 3,
   "id": "4bf9b27c",
   "metadata": {},
   "outputs": [],
   "source": [
    "y_test.drop(columns=y_test.columns[0], axis=1, inplace=True)"
   ]
  },
  {
   "cell_type": "markdown",
   "id": "b2bd9ae6",
   "metadata": {},
   "source": [
    "## Without location:"
   ]
  },
  {
   "cell_type": "code",
   "execution_count": 4,
   "id": "276beb7e",
   "metadata": {},
   "outputs": [],
   "source": [
    "#Prediction_Part1_ElasticNet_same\n",
    "rmse1 = 1/0.5232638691573344\n",
    "df1=rmse1*pd.read_csv('y_pred_same_withpcs_ElasticNet.csv')['life_expectancy']"
   ]
  },
  {
   "cell_type": "code",
   "execution_count": 5,
   "id": "0125edb7",
   "metadata": {},
   "outputs": [],
   "source": [
    "#Prediction_Part1_kNN_same\n",
    "rmse2= 1/0.249174790394354\n",
    "df2=rmse2*pd.read_csv('y_pred_same_withpcs_kNN.csv')['life_expectancy']"
   ]
  },
  {
   "cell_type": "code",
   "execution_count": 6,
   "id": "5cc51590",
   "metadata": {},
   "outputs": [],
   "source": [
    "#Prediction_Part1_NN_same\n",
    "rmse3= 1/1.12898646981341\n",
    "df3=rmse3*pd.read_csv('y_pred_same_withpcs_NN.csv')['life_expectancy']"
   ]
  },
  {
   "cell_type": "code",
   "execution_count": 7,
   "id": "767a51a1",
   "metadata": {},
   "outputs": [],
   "source": [
    "# prediction_2_normalized_without_location\n",
    "# Ridge\n",
    "rmse4 = 1/1.699003588026273\n",
    "df4=rmse4*pd.read_csv('y_pred_not_normalized_no_location_ridge.csv')['life_expectancy']"
   ]
  },
  {
   "cell_type": "code",
   "execution_count": 8,
   "id": "953d8009",
   "metadata": {},
   "outputs": [],
   "source": [
    "# prediction_2_normalized_without_location\n",
    "# RF\n",
    "rmse5 = 1/1.516\n",
    "df5=rmse5*pd.read_csv('y_pred_not_normalized_no_location_rf.csv')['life_expectancy']"
   ]
  },
  {
   "cell_type": "code",
   "execution_count": 9,
   "id": "0396860e",
   "metadata": {},
   "outputs": [],
   "source": [
    "y_ensemble=(df1+df2+df3+df4+df5)/(rmse1+rmse2+rmse3+rmse4+rmse5)"
   ]
  },
  {
   "cell_type": "code",
   "execution_count": 10,
   "id": "c73a8c7d",
   "metadata": {},
   "outputs": [
    {
     "data": {
      "text/plain": [
       "0      66.622667\n",
       "1      70.165632\n",
       "2      70.455772\n",
       "3      69.659093\n",
       "4      66.549059\n",
       "         ...    \n",
       "939    67.034614\n",
       "940    66.631088\n",
       "941    67.215643\n",
       "942    69.966344\n",
       "943    66.749684\n",
       "Name: life_expectancy, Length: 944, dtype: float64"
      ]
     },
     "execution_count": 10,
     "metadata": {},
     "output_type": "execute_result"
    }
   ],
   "source": [
    "y_ensemble"
   ]
  },
  {
   "cell_type": "code",
   "execution_count": 11,
   "id": "1d1c0274",
   "metadata": {},
   "outputs": [
    {
     "data": {
      "text/plain": [
       "7.95418616567474"
      ]
     },
     "execution_count": 11,
     "metadata": {},
     "output_type": "execute_result"
    }
   ],
   "source": [
    "# RMSE, root mean squared error, lower the better\n",
    "np.sqrt(mean_squared_error(y_test,y_ensemble))"
   ]
  },
  {
   "cell_type": "markdown",
   "id": "3fcbf92a",
   "metadata": {},
   "source": [
    "## With location:"
   ]
  },
  {
   "cell_type": "code",
   "execution_count": 12,
   "id": "126c5c78",
   "metadata": {},
   "outputs": [],
   "source": [
    "#Prediction_Part1_ElasticNet_same_withlocation\n",
    "rmse1= 1/0.4762518441333868\n",
    "df1=rmse1*pd.read_csv('y_pred_same_withpcs_withlocation_ElasticNet.csv')['life_expectancy']"
   ]
  },
  {
   "cell_type": "code",
   "execution_count": 13,
   "id": "3a64163d",
   "metadata": {},
   "outputs": [],
   "source": [
    "#Prediction_Part1_kNN_same_withlocation\n",
    "rmse2= 1/0.2624823269848026\n",
    "df2=rmse2*pd.read_csv('y_pred_same_withpcs_withlocation_kNN.csv')['life_expectancy']"
   ]
  },
  {
   "cell_type": "code",
   "execution_count": 14,
   "id": "c71a3546",
   "metadata": {},
   "outputs": [],
   "source": [
    "#Prediction_Part1_NN_same_withlocation\n",
    "rmse3= 1/0.413787507146594\n",
    "df3=rmse3*pd.read_csv('y_pred_same_withpcs_withlocation_NN.csv')['life_expectancy']"
   ]
  },
  {
   "cell_type": "code",
   "execution_count": 15,
   "id": "fa047e59",
   "metadata": {},
   "outputs": [],
   "source": [
    "# prediction_2_normalized_with_location\n",
    "# Ridge\n",
    "rmse4 = 1/1.6978857727535759\n",
    "df4=rmse4*pd.read_csv('y_pred_not_normalized_with_location_ridge.csv')['life_expectancy']"
   ]
  },
  {
   "cell_type": "code",
   "execution_count": 16,
   "id": "376d541a",
   "metadata": {},
   "outputs": [],
   "source": [
    "# prediction_2_normalized_with_location\n",
    "# RF\n",
    "rmse5 = 1/1.512\n",
    "df5=rmse5*pd.read_csv('y_pred_not_normalized_with_location_rf.csv')['life_expectancy']"
   ]
  },
  {
   "cell_type": "code",
   "execution_count": 17,
   "id": "f42f1648",
   "metadata": {},
   "outputs": [],
   "source": [
    "y_ensemble=(df1+df2+df3+df4+df5)/(rmse1+rmse2+rmse3+rmse4+rmse5)"
   ]
  },
  {
   "cell_type": "code",
   "execution_count": 18,
   "id": "e8ac8926",
   "metadata": {},
   "outputs": [
    {
     "data": {
      "text/plain": [
       "0      74.369566\n",
       "1      78.182974\n",
       "2      78.372557\n",
       "3      78.136627\n",
       "4      73.800570\n",
       "         ...    \n",
       "939    74.179595\n",
       "940    73.985782\n",
       "941    74.330762\n",
       "942    77.779770\n",
       "943    74.299071\n",
       "Name: life_expectancy, Length: 944, dtype: float64"
      ]
     },
     "execution_count": 18,
     "metadata": {},
     "output_type": "execute_result"
    }
   ],
   "source": [
    "y_ensemble"
   ]
  },
  {
   "cell_type": "code",
   "execution_count": 19,
   "id": "20019b20",
   "metadata": {},
   "outputs": [
    {
     "data": {
      "text/plain": [
       "0.5576272556945325"
      ]
     },
     "execution_count": 19,
     "metadata": {},
     "output_type": "execute_result"
    }
   ],
   "source": [
    "# RMSE, root mean squared error, lower the better\n",
    "np.sqrt(mean_squared_error(y_test,y_ensemble))"
   ]
  },
  {
   "cell_type": "code",
   "execution_count": null,
   "id": "c442580f",
   "metadata": {},
   "outputs": [],
   "source": []
  },
  {
   "cell_type": "code",
   "execution_count": null,
   "id": "d818ecd4",
   "metadata": {},
   "outputs": [],
   "source": []
  },
  {
   "cell_type": "code",
   "execution_count": null,
   "id": "b49046b3",
   "metadata": {},
   "outputs": [],
   "source": []
  }
 ],
 "metadata": {
  "kernelspec": {
   "display_name": "Python 3 (ipykernel)",
   "language": "python",
   "name": "python3"
  },
  "language_info": {
   "codemirror_mode": {
    "name": "ipython",
    "version": 3
   },
   "file_extension": ".py",
   "mimetype": "text/x-python",
   "name": "python",
   "nbconvert_exporter": "python",
   "pygments_lexer": "ipython3",
   "version": "3.8.13"
  }
 },
 "nbformat": 4,
 "nbformat_minor": 5
}
